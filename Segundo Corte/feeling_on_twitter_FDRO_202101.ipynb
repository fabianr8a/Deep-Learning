{
  "nbformat": 4,
  "nbformat_minor": 0,
  "metadata": {
    "colab": {
      "name": "feeling_on_twitter_FDRO_202101.ipynb",
      "provenance": [],
      "toc_visible": true
    },
    "kernelspec": {
      "name": "python3",
      "display_name": "Python 3"
    },
    "language_info": {
      "name": "python"
    }
  },
  "cells": [
    {
      "cell_type": "markdown",
      "metadata": {
        "id": "ctENiaaWbq8A"
      },
      "source": [
        "#Importando las librerias"
      ]
    },
    {
      "cell_type": "code",
      "metadata": {
        "id": "LmwMhLy4btVB"
      },
      "source": [
        "import os\n",
        "import tweepy as tw\n",
        "import pandas as pd"
      ],
      "execution_count": 19,
      "outputs": []
    },
    {
      "cell_type": "markdown",
      "metadata": {
        "id": "TfhtG7Kmb2iK"
      },
      "source": [
        "#Configurar API de Twitter\n",
        "Las siguientes claves, se deben obtener Twitter Developers, en la sección de Projects & Apps --> nombre_proyecto --> Keys and Tokens"
      ]
    },
    {
      "cell_type": "code",
      "metadata": {
        "id": "AHnuKufrb3ZI"
      },
      "source": [
        "# Consumer Keys\n",
        "consumer_key = 'nrblMcl7rHOwYvGciQxMYwCYL'\n",
        "consumer_secret = '06XmBON7TS4r7CRQosNVJe6t1yqXGjLCqizChSWdg2563kp7XB'\n",
        "\n",
        "# Authentication Tokens\n",
        "access_token = '1395168973088505858-LO2BFSJNLhzzDIJ7PgREyn1O7X4Iie'\n",
        "access_token_secret = 'RoVBmQkEZt3KgqArNVqlx1iiqSu8H2JiSQQZC95DXa9im'"
      ],
      "execution_count": 26,
      "outputs": []
    },
    {
      "cell_type": "code",
      "metadata": {
        "id": "_6BxjDRUBtOU"
      },
      "source": [
        "auth = tw.OAuthHandler(consumer_key, consumer_secret)\n",
        "auth.set_access_token(access_token, access_token_secret)"
      ],
      "execution_count": 27,
      "outputs": []
    },
    {
      "cell_type": "code",
      "metadata": {
        "id": "9tomuqROB8AZ"
      },
      "source": [
        "api = tw.API(auth, wait_on_rate_limit=True)"
      ],
      "execution_count": 28,
      "outputs": []
    },
    {
      "cell_type": "markdown",
      "metadata": {
        "id": "mMymb25JCD_A"
      },
      "source": [
        "#Realizar un Tweet"
      ]
    },
    {
      "cell_type": "code",
      "metadata": {
        "colab": {
          "base_uri": "https://localhost:8080/"
        },
        "id": "72SioQTwCJMz",
        "outputId": "3c0dafa7-36bd-42ec-aa49-aa803dcec91d"
      },
      "source": [
        "api.update_status(\"#USTATUNJA @santotomastunja facultad de ingenieria de sistemas\")"
      ],
      "execution_count": 29,
      "outputs": [
        {
          "output_type": "execute_result",
          "data": {
            "text/plain": [
              "Status(_api=<tweepy.api.API object at 0x7faf466382d0>, _json={'created_at': 'Thu May 20 23:52:36 +0000 2021', 'id': 1395527913441796096, 'id_str': '1395527913441796096', 'text': '#USTATUNJA @santotomastunja facultad de ingenieria de sistemas', 'truncated': False, 'entities': {'hashtags': [{'text': 'USTATUNJA', 'indices': [0, 10]}], 'symbols': [], 'user_mentions': [{'screen_name': 'santotomastunja', 'name': 'Universidad Santo Tomás - Seccional Tunja', 'id': 834119844, 'id_str': '834119844', 'indices': [11, 27]}], 'urls': []}, 'source': '<a href=\"https://help.twitter.com/en/using-twitter/how-to-tweet#source-labels\" rel=\"nofollow\">usta_test</a>', 'in_reply_to_status_id': None, 'in_reply_to_status_id_str': None, 'in_reply_to_user_id': None, 'in_reply_to_user_id_str': None, 'in_reply_to_screen_name': None, 'user': {'id': 1395168973088505858, 'id_str': '1395168973088505858', 'name': 'Fabian Danilo Rodriguez Ochoa', 'screen_name': 'FabianDaniloRo1', 'location': '', 'description': '', 'url': None, 'entities': {'description': {'urls': []}}, 'protected': False, 'followers_count': 0, 'friends_count': 0, 'listed_count': 0, 'created_at': 'Thu May 20 00:06:36 +0000 2021', 'favourites_count': 0, 'utc_offset': None, 'time_zone': None, 'geo_enabled': False, 'verified': False, 'statuses_count': 1, 'lang': None, 'contributors_enabled': False, 'is_translator': False, 'is_translation_enabled': False, 'profile_background_color': 'F5F8FA', 'profile_background_image_url': None, 'profile_background_image_url_https': None, 'profile_background_tile': False, 'profile_image_url': 'http://abs.twimg.com/sticky/default_profile_images/default_profile_normal.png', 'profile_image_url_https': 'https://abs.twimg.com/sticky/default_profile_images/default_profile_normal.png', 'profile_link_color': '1DA1F2', 'profile_sidebar_border_color': 'C0DEED', 'profile_sidebar_fill_color': 'DDEEF6', 'profile_text_color': '333333', 'profile_use_background_image': True, 'has_extended_profile': True, 'default_profile': True, 'default_profile_image': True, 'following': False, 'follow_request_sent': False, 'notifications': False, 'translator_type': 'none', 'withheld_in_countries': []}, 'geo': None, 'coordinates': None, 'place': None, 'contributors': None, 'is_quote_status': False, 'retweet_count': 0, 'favorite_count': 0, 'favorited': False, 'retweeted': False, 'lang': 'es'}, created_at=datetime.datetime(2021, 5, 20, 23, 52, 36), id=1395527913441796096, id_str='1395527913441796096', text='#USTATUNJA @santotomastunja facultad de ingenieria de sistemas', truncated=False, entities={'hashtags': [{'text': 'USTATUNJA', 'indices': [0, 10]}], 'symbols': [], 'user_mentions': [{'screen_name': 'santotomastunja', 'name': 'Universidad Santo Tomás - Seccional Tunja', 'id': 834119844, 'id_str': '834119844', 'indices': [11, 27]}], 'urls': []}, source='usta_test', source_url='https://help.twitter.com/en/using-twitter/how-to-tweet#source-labels', in_reply_to_status_id=None, in_reply_to_status_id_str=None, in_reply_to_user_id=None, in_reply_to_user_id_str=None, in_reply_to_screen_name=None, author=User(_api=<tweepy.api.API object at 0x7faf466382d0>, _json={'id': 1395168973088505858, 'id_str': '1395168973088505858', 'name': 'Fabian Danilo Rodriguez Ochoa', 'screen_name': 'FabianDaniloRo1', 'location': '', 'description': '', 'url': None, 'entities': {'description': {'urls': []}}, 'protected': False, 'followers_count': 0, 'friends_count': 0, 'listed_count': 0, 'created_at': 'Thu May 20 00:06:36 +0000 2021', 'favourites_count': 0, 'utc_offset': None, 'time_zone': None, 'geo_enabled': False, 'verified': False, 'statuses_count': 1, 'lang': None, 'contributors_enabled': False, 'is_translator': False, 'is_translation_enabled': False, 'profile_background_color': 'F5F8FA', 'profile_background_image_url': None, 'profile_background_image_url_https': None, 'profile_background_tile': False, 'profile_image_url': 'http://abs.twimg.com/sticky/default_profile_images/default_profile_normal.png', 'profile_image_url_https': 'https://abs.twimg.com/sticky/default_profile_images/default_profile_normal.png', 'profile_link_color': '1DA1F2', 'profile_sidebar_border_color': 'C0DEED', 'profile_sidebar_fill_color': 'DDEEF6', 'profile_text_color': '333333', 'profile_use_background_image': True, 'has_extended_profile': True, 'default_profile': True, 'default_profile_image': True, 'following': False, 'follow_request_sent': False, 'notifications': False, 'translator_type': 'none', 'withheld_in_countries': []}, id=1395168973088505858, id_str='1395168973088505858', name='Fabian Danilo Rodriguez Ochoa', screen_name='FabianDaniloRo1', location='', description='', url=None, entities={'description': {'urls': []}}, protected=False, followers_count=0, friends_count=0, listed_count=0, created_at=datetime.datetime(2021, 5, 20, 0, 6, 36), favourites_count=0, utc_offset=None, time_zone=None, geo_enabled=False, verified=False, statuses_count=1, lang=None, contributors_enabled=False, is_translator=False, is_translation_enabled=False, profile_background_color='F5F8FA', profile_background_image_url=None, profile_background_image_url_https=None, profile_background_tile=False, profile_image_url='http://abs.twimg.com/sticky/default_profile_images/default_profile_normal.png', profile_image_url_https='https://abs.twimg.com/sticky/default_profile_images/default_profile_normal.png', profile_link_color='1DA1F2', profile_sidebar_border_color='C0DEED', profile_sidebar_fill_color='DDEEF6', profile_text_color='333333', profile_use_background_image=True, has_extended_profile=True, default_profile=True, default_profile_image=True, following=False, follow_request_sent=False, notifications=False, translator_type='none', withheld_in_countries=[]), user=User(_api=<tweepy.api.API object at 0x7faf466382d0>, _json={'id': 1395168973088505858, 'id_str': '1395168973088505858', 'name': 'Fabian Danilo Rodriguez Ochoa', 'screen_name': 'FabianDaniloRo1', 'location': '', 'description': '', 'url': None, 'entities': {'description': {'urls': []}}, 'protected': False, 'followers_count': 0, 'friends_count': 0, 'listed_count': 0, 'created_at': 'Thu May 20 00:06:36 +0000 2021', 'favourites_count': 0, 'utc_offset': None, 'time_zone': None, 'geo_enabled': False, 'verified': False, 'statuses_count': 1, 'lang': None, 'contributors_enabled': False, 'is_translator': False, 'is_translation_enabled': False, 'profile_background_color': 'F5F8FA', 'profile_background_image_url': None, 'profile_background_image_url_https': None, 'profile_background_tile': False, 'profile_image_url': 'http://abs.twimg.com/sticky/default_profile_images/default_profile_normal.png', 'profile_image_url_https': 'https://abs.twimg.com/sticky/default_profile_images/default_profile_normal.png', 'profile_link_color': '1DA1F2', 'profile_sidebar_border_color': 'C0DEED', 'profile_sidebar_fill_color': 'DDEEF6', 'profile_text_color': '333333', 'profile_use_background_image': True, 'has_extended_profile': True, 'default_profile': True, 'default_profile_image': True, 'following': False, 'follow_request_sent': False, 'notifications': False, 'translator_type': 'none', 'withheld_in_countries': []}, id=1395168973088505858, id_str='1395168973088505858', name='Fabian Danilo Rodriguez Ochoa', screen_name='FabianDaniloRo1', location='', description='', url=None, entities={'description': {'urls': []}}, protected=False, followers_count=0, friends_count=0, listed_count=0, created_at=datetime.datetime(2021, 5, 20, 0, 6, 36), favourites_count=0, utc_offset=None, time_zone=None, geo_enabled=False, verified=False, statuses_count=1, lang=None, contributors_enabled=False, is_translator=False, is_translation_enabled=False, profile_background_color='F5F8FA', profile_background_image_url=None, profile_background_image_url_https=None, profile_background_tile=False, profile_image_url='http://abs.twimg.com/sticky/default_profile_images/default_profile_normal.png', profile_image_url_https='https://abs.twimg.com/sticky/default_profile_images/default_profile_normal.png', profile_link_color='1DA1F2', profile_sidebar_border_color='C0DEED', profile_sidebar_fill_color='DDEEF6', profile_text_color='333333', profile_use_background_image=True, has_extended_profile=True, default_profile=True, default_profile_image=True, following=False, follow_request_sent=False, notifications=False, translator_type='none', withheld_in_countries=[]), geo=None, coordinates=None, place=None, contributors=None, is_quote_status=False, retweet_count=0, favorite_count=0, favorited=False, retweeted=False, lang='es')"
            ]
          },
          "metadata": {
            "tags": []
          },
          "execution_count": 29
        }
      ]
    },
    {
      "cell_type": "markdown",
      "metadata": {
        "id": "NSAE__VWCP7h"
      },
      "source": [
        "#Obtener data de Twitter"
      ]
    },
    {
      "cell_type": "code",
      "metadata": {
        "id": "0chPk8L2CSLv"
      },
      "source": [
        "search_words = '#CopaAmerica2021'\n",
        "data_since = '2020-01-01'"
      ],
      "execution_count": 30,
      "outputs": []
    },
    {
      "cell_type": "code",
      "metadata": {
        "colab": {
          "base_uri": "https://localhost:8080/"
        },
        "id": "cHDZnGAFC2MI",
        "outputId": "4dac9a0c-12aa-4f95-dbf2-71becef2b0b2"
      },
      "source": [
        "tweets = tw.Cursor(api.search, q=search_words, lang='en', since=data_since).items(10)\n",
        "tweets"
      ],
      "execution_count": 31,
      "outputs": [
        {
          "output_type": "execute_result",
          "data": {
            "text/plain": [
              "<tweepy.cursor.ItemIterator at 0x7faf465db910>"
            ]
          },
          "metadata": {
            "tags": []
          },
          "execution_count": 31
        }
      ]
    },
    {
      "cell_type": "code",
      "metadata": {
        "colab": {
          "base_uri": "https://localhost:8080/"
        },
        "id": "vj_FQvK_C7kt",
        "outputId": "12fd92c3-271f-4f50-a68c-0cc319f42e1f"
      },
      "source": [
        "[tweet.text for tweet in tweets]"
      ],
      "execution_count": 32,
      "outputs": [
        {
          "output_type": "execute_result",
          "data": {
            "text/plain": [
              "['RT @Route1futbol: 🚨 The Government of Colombia 🇨🇴 will formally request CONMEBOL to postpone the competition. [@ESPNArgentina] #CopaAmerica…',\n",
              " 'RT @Route1futbol: 🚨 The Government of Colombia 🇨🇴 will formally request CONMEBOL to postpone the competition. [@ESPNArgentina] #CopaAmerica…',\n",
              " 'RT @Route1futbol: 🚨 The Government of Colombia 🇨🇴 will formally request CONMEBOL to postpone the competition. [@ESPNArgentina] #CopaAmerica…',\n",
              " 'RT @Route1futbol: 🚨 The Government of Colombia 🇨🇴 will formally request CONMEBOL to postpone the competition. [@ESPNArgentina] #CopaAmerica…',\n",
              " '🚨 The Government of Colombia 🇨🇴 will formally request CONMEBOL to postpone the competition. [@ESPNArgentina]… https://t.co/NZsgqWjYdC',\n",
              " 'RT @Route1futbol: 🚨 Emergency meeting: they analyze a possible withdrawal of Colombia 🇨🇴 as hosts of the Copa America. They fear social con…',\n",
              " 'RT @InfooAnonymous: After the pessimistic and humiliating government led by Iván Duque and his boss Alvaro Uribe. Colombia makes it officia…',\n",
              " 'After the pessimistic and humiliating government led by Iván Duque and his boss Alvaro Uribe. Colombia makes it off… https://t.co/JJ5YnyvFnX',\n",
              " 'Argentina is also heading into a stricter quarantine due to record high Covid-19 cases. The #CopaAmerica2021 may ha… https://t.co/J5Smc3arth',\n",
              " 'RT @LabelFrancesco: Argentina will be the only country hosting the #CopaAmerica2021 after Colombia backs out due to nationwide political pr…']"
            ]
          },
          "metadata": {
            "tags": []
          },
          "execution_count": 32
        }
      ]
    },
    {
      "cell_type": "code",
      "metadata": {
        "id": "3Gj2VokONxOv"
      },
      "source": [
        "search = search_words + '-filter:retweets'"
      ],
      "execution_count": 33,
      "outputs": []
    },
    {
      "cell_type": "code",
      "metadata": {
        "id": "48SgKJ_kNzwz"
      },
      "source": [
        "tweets = tw.Cursor(api.search, q=search, lang='es', since=data_since).items(100)"
      ],
      "execution_count": 51,
      "outputs": []
    },
    {
      "cell_type": "markdown",
      "metadata": {
        "id": "J4__EA-jN2oA"
      },
      "source": [
        "Esta línea es recomendable omitir antes de crear el dataframe, puesto que al ejecutarla, se resetea la variable"
      ]
    },
    {
      "cell_type": "code",
      "metadata": {
        "colab": {
          "base_uri": "https://localhost:8080/"
        },
        "id": "gNwfSpj2N3ew",
        "outputId": "9a0efd2c-b1e5-4ac7-d0e3-45b76a10b5f6"
      },
      "source": [
        "[tweet.text for tweet in tweets]"
      ],
      "execution_count": 52,
      "outputs": [
        {
          "output_type": "execute_result",
          "data": {
            "text/plain": [
              "['-¡Doctor Uribe, ya hice cancelar la #CopaAmerica2021 \\n-¡QUE NO CANSARA CON EL AMÉRICA, MARICA, EL AMÉRICA!… https://t.co/Ej1SiH7OKn',\n",
              " 'en serio? fue mas importante la reunión sobre la #CopaAmerica2021 que la del #ParoNacional20M ?',\n",
              " '@RICHENAO Ustedes los pantalleros que roban camara son los que se congracean con los vandalos y toda clace de vanda… https://t.co/kb1Cgxixqt',\n",
              " 'Mañana en \"Palabras Menores\" el cabeza de rodilla, alaba la \"EXCELENTE gestión del Gobierno genocida\" y q el cómo u… https://t.co/vfy5WBVhu1',\n",
              " 'Las lágrimas causadas por los lacrimogenos fueron la gota que derramo la #CopaAmerica2021',\n",
              " 'De verdad que el Gobierno de este país no tiene ni idea de nada!!! \\n🤦🏼\\u200d♀️🤦🏼\\u200d♀️🤦🏼\\u200d♀️🤦🏼\\u200d♀️🤦🏼\\u200d♀️ #CopaAmerica2021 https://t.co/76Vawa679d',\n",
              " 'solicitar aplazar la Copa América en lugar de cederla a @afa solo por qué #ColombiaSOS no es en condiciones de orga… https://t.co/t9FHV5x6v8',\n",
              " '@BD_ESPN Q  ridículos pidiendo aplazar la #CopaAmerica2021 para otra fecha no entienden que no tenemos  la condició… https://t.co/C6h4lREfAo',\n",
              " '#Colombia pedirá a #Conmebol aplazar la #CopaAmerica2021 para noviembre - https://t.co/lnXj27f7cC',\n",
              " 'Maradona nunca se equivocó: \"La pelota no se mancha\".  Y esta vez no la pudieron manchar #SOSColombiaDDHH #CopaAmerica2021',\n",
              " 'Pregunta del día @MinDeporteCol Como van a pedir un aplazamiento de algo que ya no hay?\\n#CopaAmerica2021',\n",
              " '@SC_ESPN Que pena con ustedes, en Colombia tenemos un problema de ratas y estamos limpiando la casa. Esperamos algú… https://t.co/f454a4vFl1',\n",
              " '#CopaAmerica2021 \\nEl Ministro del Deporte de Colombia, Ernesto Lucena, acaba de anunciar que el Gobierno de Colombi… https://t.co/VjPJWHrlGk',\n",
              " 'Pedimos aplazamiento de la #CopaAmerica2021 hasta que Colombia tenga un gobierno digno. @CONMEBOL \\n\\nMínimo mínimo 2… https://t.co/yk5n6h6sQg',\n",
              " '#ParoNacional20M\\n#CopaAmerica2021 #CopaAmerica #Argentina #Colombia Hace 21 días atrás, Carrasquilla dijo q el país… https://t.co/fUgJdp5GTr',\n",
              " 'Si @CONMEBOL acepta la solicitud del gobierno colombiano de aplazar la #CopaAmerica2021 para diciembre se convierte… https://t.co/RNcZQDplGO',\n",
              " 'Les traigo el nuevo logo de la #CopaAmerica2021 https://t.co/2A5OkQ99xd',\n",
              " '⚽️ ¡Colombia 🇨🇴 tomó una decisión sobre el torneo continental!\\n\\n☝️ Decisión final estará en manos de la Conmebol.… https://t.co/SifaGVAfNV',\n",
              " 'Señores @CONMEBOL, @IvanDuque no cumple ni años. 🐽 #CopaAmerica2021',\n",
              " 'JKNAJKAJAJAJAJAJAJAJAJA\\n\\n#ParoNacional20M #CopaAmerica2021 #kpopers #PetroEsLaPeorPandemia #PetroNuncaSeraPresidente https://t.co/Lpxk0iLsRm',\n",
              " 'Por que no mejor permitir que #Argentina realice la #CopaAmerica2021 ? \\n\\nEn este momento estamos pasando un problem… https://t.co/0a5FeoH6aQ',\n",
              " 'Los Argentinos no se van a dejar meter los dedos a la boca #CopaAmerica2021 #NoALaCopaAméricaEnColombia',\n",
              " 'LEY DE INDULTO GENERAL. #LibertadALxsPresxsPoliticxs #CopaAmerica2021 #CambioDeGabinete #LeyDeIndultoGeneral AHORA https://t.co/VylGE7OxvE',\n",
              " 'Desistir de sede de #CopaAmerica2021 es confirmar a comunidad internacional que país esta en crisis, mientras… https://t.co/A5SEd3RZqJ',\n",
              " '#lacopanosejuega están matando gente, a esos vándalos como ud los llama! Les pegan 8 tiros por bailar en una protes… https://t.co/skN7a02hJV',\n",
              " 'Pilas! Guardias de la sijin están en estos momentos tomando fotos  y grabando vídeos de los  manifestantes que está… https://t.co/7RZeNHJ2T4',\n",
              " '#CopaAmerica2021 \\nAlguien que por favor le pase este dato a Carlos Antonio Vélez:\\nhttps://t.co/EXTouNpjL9 https://t.co/BN7llk9Rdx',\n",
              " 'Pobre la gente que va a tener que estar encerrada afectando sus empleos y negocios por la pandemia, la… https://t.co/VYc3Dynr1a',\n",
              " 'Al final #Colombia solicitó a la #Conmebol el aplazamiento de la  #CopaAmerica2021 para fines de éste año. De Riple… https://t.co/dzqBSRxJXZ',\n",
              " '#NoALaCopaAméricaEnColombia La @CONMEBOL no aplazara la #CopaAmerica2021, el calendario de diciembre en Europa es m… https://t.co/SNzsN1pjlb',\n",
              " 'Tranquilos vagos de la Cámpora! La #CopaAmerica2021  se hace! En el #GobiernoDeCientificos  faltan vacunas sobran i… https://t.co/z6D6qUeMrz',\n",
              " 'Ernesto Lucena redactando la carta pidiéndole a la Conmebol que aplace la #CopaAmerica2021 porque quieren es que ha… https://t.co/sBF8ft213y',\n",
              " '#GobiernoMentiroso la #CopaAmerica2021 no se desarrolla en Colombia no por el COVID sino por la insostenible situac… https://t.co/wEAF1LoJjy',\n",
              " '#Colombia pide aplazar la #CopaAmerica2021\\nEn medio de rumores de que el país renunciaría a albergar el certamen ju… https://t.co/MQ6x6scywQ',\n",
              " 'Opinión impopular: La #CopaAmerica2021 si debió celebrarse en Colombia, tal evento ayudaría al sector turismo y hot… https://t.co/9KON7phF23',\n",
              " 'Y mientras tanto en Argentina... #CopaAmerica2021 https://t.co/edHNshAqCs',\n",
              " 'El Gobierno vuelve a una #CuarentenaEstricta , sabiendo las consecuencias que eso genera, pero indigna que su prior… https://t.co/LtGmUDXSFt',\n",
              " '¡CON MAS RAZÓN DEBEN RETIRARLE A #COLOMBIA LA REALIZACIÓN DE LA #CopaAmerica2021! https://t.co/cxcMtgUnUN',\n",
              " 'Srs @CONMEBOL jueguen la #CopaAmerica2021 para fecha prevista, este hpta puecco 🐷🐽 @IvanDuque cree que no vamos a f… https://t.co/PgEVw6k1Q8',\n",
              " 'El presidente @IvanDuque, \\'hábil\\' con la pelota, se la tira a la @CONMEBOL y le dice: \"no renuncio a la… https://t.co/TjTfKdCeOT',\n",
              " 'Debe estar histérico aquel presi futbolero #CopaAmerica2021 https://t.co/jbNH22W1S5',\n",
              " 'Panem et circenses\\xa0(literalmente «pan y circo»), locución latina peyorativa de uso actual que describe la práctica… https://t.co/0rALWnOiMI',\n",
              " 'Lo que Duque y Lucena le deben estar ofreciendo a Jesurún para que les ayude a salvar la #CopaAmerica2021 para Colo… https://t.co/9qgtIbbuBb',\n",
              " '¿Habrá Copa América? ¿Dónde se jugará? ¿Será Argentina en único organizador?\\n\\nTodas las respuestas aquí.… https://t.co/UO5EjT0bBC',\n",
              " '@CONMEBOL llévese la #CopaAmerica2021 ya de Colombia de un comunicado acá no la queremos hay problemas más importan… https://t.co/PxvOaTioS1',\n",
              " 'La #CopaAmerica2021 será en #Argentina más sin embargo https://t.co/rVCGHdlvj6',\n",
              " 'Inicia @BocaJrsOficial vs @BarcelonaSC #CopaAmerica2021 #Argentina Grupo C',\n",
              " '#CopaAmerica2021 no se realizará en Colombia: @CONMEBOL\\n\\nhttps://t.co/xrcYVXpATt',\n",
              " '#CopaAmerica2021 🇦🇷  Los dirigentes de la @FCF_Oficial se reunieron esta tarde con sus pares de la @CONMEBOL y acor… https://t.co/hTNNjmu0FK',\n",
              " '#Nacional El  Ministro del Deporte, @LucenErnesto acaba de anunciar que el Gobierno de #Colombia solicitará formalm… https://t.co/gDyBqr0bK2',\n",
              " 'Hoy el Gobierno 🇨🇴 pide aplazar la #CopaAmerica2021 \"porque lo más importante es el aforo de público\". ¡Cuentazo!\\nL… https://t.co/AcprIK4tNV',\n",
              " '@MinDeporteCol @CONMEBOL @LucenErnesto @infopresidencia No queremos Copa America #CopaAmerica2021',\n",
              " 'La Copa America sigue vigente ppr si estaban preocupados por las actividades esenciales #confinamiento #CopaAmerica2021',\n",
              " 'Van a suspender la Copa América en Colombia por el COVID, la van a realizar en Argentina donde hay más casos de COV… https://t.co/2xAv7OrebW',\n",
              " '#Colombia 🇨🇴 pide aplazar la Copa América ⬇️ #CopaAmerica2021\\n\\nhttps://t.co/sWZZiVhG51',\n",
              " 'Este pedido me hizo recordar que en 1986 #Colombia renunció a organizar el Mundial de fútbol. México tomó la posta.… https://t.co/lkm6u8ktxl',\n",
              " 'Colombia está insistiendo tanto con la #CopaAmerica2021 que hasta piden que la aplazarla.\\n\\n¿Ya se guardaron esa pla… https://t.co/G87PjmaGAC',\n",
              " 'Esa #CopaAmerica2021 no quiere ser... https://t.co/6DJV6Yve5S',\n",
              " 'NACIONAL NACIONAL\\ngano argentino jrs\\n\\nvamos con todo en la última fecha.. Estamos mas vivos que nunca en la… https://t.co/CQy57lQfUL',\n",
              " 'Le dejamos en bandeja la clasificación. Qué @CARCoficial no se fie 🙄\\n#CopaAmerica2021 \\n#SanLorenzo \\n#Papelonazo de la década',\n",
              " 'Que vaina “Hay que pedirle permiso a los vándalos para jugar fútbol”, ojalá y los que no querían la… https://t.co/ckTylZvlD2',\n",
              " '#QuedateEnCasa a mirar #Tinelli y la #CopaAmerica2021 ahora que es el peor momento de mi go, #Tugo bierno.',\n",
              " '@EduardoLuisFut @luislozanop03 @WinSportsTV @SaqueLargoWin @CONMEBOL @CONMEBOL @Libertadores @Sudamericana… https://t.co/DsHd3BOtMy',\n",
              " 'LO ÚNICO QUE TENÍAS QUE HACER ES LO QUE HIZO EL MUNDO, INÚTIL. QUE VAS A FORTALECER? DEJA DE PROMETER, NUNCA CUMPLI… https://t.co/CoL4rsxm4q',\n",
              " 'Ultima Hora:Gobierno de Colombia solicitará a @CONMEBOL que aplace hasta Diciembre la #CopaAmerica2021 ⚽🏟',\n",
              " '@WRadioColombia Argentina #CopaAmerica2021 #CopaAmerica https://t.co/X9qj4qePK9',\n",
              " 'Los colombianos al enterarnos que la #CopaAmerica2021 no se jugará en Colombia https://t.co/h8rweuaUxk',\n",
              " 'Argentina #CopaAmerica2021 @WRadioColombia @fdbedout https://t.co/6N3GVH3jpP',\n",
              " '#Atencion #Colombia #URGENTE La cede de la #CopaAmerica2021 solo la tendrá #Argentina que a pesar que también tiene… https://t.co/ISkFAdVHir',\n",
              " '¿Cree que @CONMEBOL aplazará petición de Colombia de aplazar la #CopaAmerica2021?',\n",
              " 'Ya que no se va a jugar la copa America en Colombia, solo le pido a Dios que manden a Carlos Antonio Vélez a argent… https://t.co/cQ2QaxTOcx',\n",
              " 'Colombia pide que la Copa América se juegue en Diciembre \\n\\n#Colombia #CopaAmerica2021 https://t.co/9vd43RIoW5',\n",
              " 'TE AMO DIVAZA #SOSColombiaDDHH #ParoNacional20M #CopaAmerica2021 https://t.co/ipWDoQAbh7',\n",
              " '#CopaAmerica2021 ¡ATENCIÓN! El Gobierno de Colombia solicita formalmente a la Conmebol suspender el torneo hasta fi… https://t.co/Cfo8JXw0Sq',\n",
              " 'Nos vuelven a encerrar 9 días.. los primeros 9 días. Seguramente te van a decir que es para cuidarte, mientras está… https://t.co/iMNjZzc3S1',\n",
              " '🚨ULTIMO MOMENTO🚨: Colombia🇨🇴 solicitara aplazar la #CopaAmerica2021🇦🇷🇨🇴 hasta fin de año, lo anuncio Ernesto Lucena… https://t.co/QRDF72t3er',\n",
              " 'En #Argentina se reportan +140.000 casos de #Covid en 4 días\\nEl gobierno va a decretar un nuevo confinamiento estri… https://t.co/M2PQ1l1TYG',\n",
              " 'Siguen sin entender no queremos aplazamiento... no #CopaAmerica2021 https://t.co/xnxSuv4dWF',\n",
              " 'Parce esto muestra el talante de este gob. En lugar de admitir que no hay condiciones para #CopaAmérica2021, argume… https://t.co/38QtjiThdU',\n",
              " '🚨Colombia pedirá el aplazar la #CopaAmerica2021 a la #Conmebol🏆\\n\\nhttps://t.co/49welV31df\\n\\n#CopaAmericaEnTUDN |… https://t.co/9WqQ5MHBRY',\n",
              " '@fdbedout Es un chiste de este gobierno además no aceptan que sea por la inestabilidad del país. #CopaAmerica2021  QUE VERGUEENZA',\n",
              " '@WinSportsTV Nueva noticia para los de Guin, según fuentes el presidente ya no le interesa el fútbol, se va enfocar… https://t.co/zqZMSSjlny',\n",
              " '@cesaralo intentando por todos los medios decir que Argentina  tampoco puede hacer la #CopaAmerica2021.',\n",
              " '#CopaAmérica2021 | 🚨 AHORA El ministro de deporte de #Colombia comunica: \\n\\n🗣 No renunció a su cargo\\n🗣 Pedio la post… https://t.co/GqhTU1jhzk',\n",
              " 'Muestre los datos @DIARIODEPORTES donde se asegure que la inmensa mayoría colombiana  quiere la #CopaAmerica2021.… https://t.co/ZhbpciI4u4',\n",
              " 'Argentina 🇦🇷 va a realizar la #CopaAmerica2021 a la par que se convierte en el país con más muertos de COVID por mi… https://t.co/ykk5itPCdR',\n",
              " '@cesaralo @CONMEBOL Ese anuncio es para que Colombia no tenga que decir \"no podemos hacer la #CopaAmerica2021\"',\n",
              " 'Jajajajajaja se le cayó la #CopaAmerica2021 al subpresidente https://t.co/YYVce4eoJ7',\n",
              " 'Pedir un aplazamiento de la #CopaAmérica2021 es darle largas a un situación que está sin control y que quieren ocul… https://t.co/2r1zL1qqPn',\n",
              " 'Argentina extrema cuidados para evitar contagios en Copa América\\n\\nLos detalles: https://t.co/T3ufNk8WRF… https://t.co/9sRSuQ7pUy',\n",
              " 'Panas en serio, qué pesar que la copa que íbamos a ver por TV ahora la vamos a tener que ver por TV #CopaAmérica2021 jajajaj',\n",
              " 'Definitivamente este #Desgobierno  vive en Narnia o su nivel de ignorancia es tanto que juran que la gente se come… https://t.co/XqGMF5eaQu',\n",
              " '@AndoconMachete No joda, jajaja qué terco este duque ome!!!, Cuánta plata-coimas-sobornos-guiñoguiño no habrá bajo… https://t.co/tkVjb2uqLa',\n",
              " 'Qué la aplacen\\n\\nAnte la decisión del retiro de Colombia como sede, el Gobierno le perdió a la @CONMEBOL que aplacen… https://t.co/OWWPeb78T2',\n",
              " 'Ernesto Lucena, Ministro de Deporte de Colombia, pide formalmente la postergación de la #CopaAmérica2021.\\n\\nEl país… https://t.co/IQ2sk5NQts',\n",
              " 'Mussolini - mundial Italia 34, Hitler - Olímpicos Berlín 36, Videla - mundial Argentina 78 y el títere @IvanDuque p… https://t.co/kZgq9gUrLB',\n",
              " 'La copa América que íbamos a ver por tv, la vamos a ver por tv. #CopaAmerica2021 #copaamericanosejuegaencolombia… https://t.co/W89WjwiG2Q',\n",
              " '@JulianJaraUribe ¡COLOMBIA SE QUEDO SIN COPA AMERICA! ¡El pueblo la tumbo! Con la cara en alto decimos que ¡Colombi… https://t.co/tNOLN8d6so',\n",
              " 'Duque rogándole a la @CONMEBOL que lo dejen hacer la Copa América \\n\\n#CopaAmerica #CopaAmerica2021 https://t.co/OAYIEZE9Q7',\n",
              " '@fdbedout Trabajo en el sector del entretenimiento y la publicidad, se tenían proyectos a ejecutar desde hace 2 año… https://t.co/MXL6uijbl8']"
            ]
          },
          "metadata": {
            "tags": []
          },
          "execution_count": 52
        }
      ]
    },
    {
      "cell_type": "markdown",
      "metadata": {
        "id": "M_N4KOJMOp59"
      },
      "source": [
        "#Conversión en dataframe"
      ]
    },
    {
      "cell_type": "code",
      "metadata": {
        "id": "4JJN5Tc5Or2q"
      },
      "source": [
        "data_frame = [[tweet.user.screen_name, tweet.user.location,tweet.text] for tweet in tweets]"
      ],
      "execution_count": 59,
      "outputs": []
    },
    {
      "cell_type": "code",
      "metadata": {
        "id": "IACTGjwiPBfe"
      },
      "source": [
        "tw_dataframe = pd.DataFrame(data= data_frame , columns=[\"user\",\"location\",\"text\"])"
      ],
      "execution_count": 60,
      "outputs": []
    },
    {
      "cell_type": "code",
      "metadata": {
        "colab": {
          "base_uri": "https://localhost:8080/",
          "height": 47
        },
        "id": "VL0z5zaMPFsF",
        "outputId": "1582cc3c-a859-45b1-9ca0-cce66930940a"
      },
      "source": [
        "tw_dataframe"
      ],
      "execution_count": 61,
      "outputs": [
        {
          "output_type": "execute_result",
          "data": {
            "text/html": [
              "<div>\n",
              "<style scoped>\n",
              "    .dataframe tbody tr th:only-of-type {\n",
              "        vertical-align: middle;\n",
              "    }\n",
              "\n",
              "    .dataframe tbody tr th {\n",
              "        vertical-align: top;\n",
              "    }\n",
              "\n",
              "    .dataframe thead th {\n",
              "        text-align: right;\n",
              "    }\n",
              "</style>\n",
              "<table border=\"1\" class=\"dataframe\">\n",
              "  <thead>\n",
              "    <tr style=\"text-align: right;\">\n",
              "      <th></th>\n",
              "      <th>user</th>\n",
              "      <th>location</th>\n",
              "      <th>text</th>\n",
              "    </tr>\n",
              "  </thead>\n",
              "  <tbody>\n",
              "  </tbody>\n",
              "</table>\n",
              "</div>"
            ],
            "text/plain": [
              "Empty DataFrame\n",
              "Columns: [user, location, text]\n",
              "Index: []"
            ]
          },
          "metadata": {
            "tags": []
          },
          "execution_count": 61
        }
      ]
    },
    {
      "cell_type": "markdown",
      "metadata": {
        "id": "aQkrJ1ySPI8x"
      },
      "source": [
        "#Guardamos los datos a un CSV"
      ]
    },
    {
      "cell_type": "code",
      "metadata": {
        "colab": {
          "base_uri": "https://localhost:8080/"
        },
        "id": "xtdldBuCPMQA",
        "outputId": "e1f869e5-d8e5-4546-9a91-ebc1c41ec81f"
      },
      "source": [
        "from google.colab import drive\n",
        "drive.mount('/content/drive')"
      ],
      "execution_count": 56,
      "outputs": [
        {
          "output_type": "stream",
          "text": [
            "Drive already mounted at /content/drive; to attempt to forcibly remount, call drive.mount(\"/content/drive\", force_remount=True).\n"
          ],
          "name": "stdout"
        }
      ]
    },
    {
      "cell_type": "code",
      "metadata": {
        "id": "lLhkcmEtQfDF"
      },
      "source": [
        "tw_dataframe.to_csv('/content/drive/MyDrive/Colab_Notebooks/Data_Twitter/Copa_America_2021', index=False, encoding='utf-8')"
      ],
      "execution_count": 62,
      "outputs": []
    }
  ]
}