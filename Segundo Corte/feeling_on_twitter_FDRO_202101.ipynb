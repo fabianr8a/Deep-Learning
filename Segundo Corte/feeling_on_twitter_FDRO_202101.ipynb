{
  "nbformat": 4,
  "nbformat_minor": 0,
  "metadata": {
    "colab": {
      "name": "feeling_on_twitter_FDRO_202101.ipynb",
      "provenance": [],
      "toc_visible": true
    },
    "kernelspec": {
      "name": "python3",
      "display_name": "Python 3"
    },
    "language_info": {
      "name": "python"
    }
  },
  "cells": [
    {
      "cell_type": "markdown",
      "metadata": {
        "id": "ctENiaaWbq8A"
      },
      "source": [
        "#Importando las librerias"
      ]
    },
    {
      "cell_type": "code",
      "metadata": {
        "id": "LmwMhLy4btVB"
      },
      "source": [
        "import os\n",
        "import tweepy as tw\n",
        "import pandas as pd"
      ],
      "execution_count": null,
      "outputs": []
    },
    {
      "cell_type": "markdown",
      "metadata": {
        "id": "TfhtG7Kmb2iK"
      },
      "source": [
        "#Configurar API de Twitter\n",
        "Las siguientes claves, se deben obtener Twitter Developers, en la sección de Projects & Apps --> nombre_proyecto --> Keys and Tokens"
      ]
    },
    {
      "cell_type": "code",
      "metadata": {
        "id": "AHnuKufrb3ZI"
      },
      "source": [
        "# Consumer Keys\n",
        "consumer_key = 'nrblMcl7rHOwYvGciQxMYwCYL'\n",
        "consumer_secret = '06XmBON7TS4r7CRQosNVJe6t1yqXGjLCqizChSWdg2563kp7XB'\n",
        "\n",
        "# Authentication Tokens\n",
        "access_token = '1395168973088505858-LO2BFSJNLhzzDIJ7PgREyn1O7X4Iie'\n",
        "access_token_secret = 'RoVBmQkEZt3KgqArNVqlx1iiqSu8H2JiSQQZC95DXa9im'"
      ],
      "execution_count": null,
      "outputs": []
    },
    {
      "cell_type": "code",
      "metadata": {
        "id": "_6BxjDRUBtOU"
      },
      "source": [
        "auth = tw.OAuthHandler(consumer_key, consumer_secret)\n",
        "auth.set_access_token(access_token, access_token_secret)"
      ],
      "execution_count": null,
      "outputs": []
    },
    {
      "cell_type": "code",
      "metadata": {
        "id": "9tomuqROB8AZ"
      },
      "source": [
        "api = tw.API(auth, wait_on_rate_limit=True)"
      ],
      "execution_count": null,
      "outputs": []
    },
    {
      "cell_type": "markdown",
      "metadata": {
        "id": "mMymb25JCD_A"
      },
      "source": [
        "#Realizar un Tweet"
      ]
    },
    {
      "cell_type": "code",
      "metadata": {
        "colab": {
          "base_uri": "https://localhost:8080/"
        },
        "id": "72SioQTwCJMz",
        "outputId": "3c0dafa7-36bd-42ec-aa49-aa803dcec91d"
      },
      "source": [
        "api.update_status(\"#USTATUNJA @santotomastunja facultad de ingenieria de sistemas\")"
      ],
      "execution_count": null,
      "outputs": [
        {
          "output_type": "execute_result",
          "data": {
            "text/plain": [
              "Status(_api=<tweepy.api.API object at 0x7faf466382d0>, _json={'created_at': 'Thu May 20 23:52:36 +0000 2021', 'id': 1395527913441796096, 'id_str': '1395527913441796096', 'text': '#USTATUNJA @santotomastunja facultad de ingenieria de sistemas', 'truncated': False, 'entities': {'hashtags': [{'text': 'USTATUNJA', 'indices': [0, 10]}], 'symbols': [], 'user_mentions': [{'screen_name': 'santotomastunja', 'name': 'Universidad Santo Tomás - Seccional Tunja', 'id': 834119844, 'id_str': '834119844', 'indices': [11, 27]}], 'urls': []}, 'source': '<a href=\"https://help.twitter.com/en/using-twitter/how-to-tweet#source-labels\" rel=\"nofollow\">usta_test</a>', 'in_reply_to_status_id': None, 'in_reply_to_status_id_str': None, 'in_reply_to_user_id': None, 'in_reply_to_user_id_str': None, 'in_reply_to_screen_name': None, 'user': {'id': 1395168973088505858, 'id_str': '1395168973088505858', 'name': 'Fabian Danilo Rodriguez Ochoa', 'screen_name': 'FabianDaniloRo1', 'location': '', 'description': '', 'url': None, 'entities': {'description': {'urls': []}}, 'protected': False, 'followers_count': 0, 'friends_count': 0, 'listed_count': 0, 'created_at': 'Thu May 20 00:06:36 +0000 2021', 'favourites_count': 0, 'utc_offset': None, 'time_zone': None, 'geo_enabled': False, 'verified': False, 'statuses_count': 1, 'lang': None, 'contributors_enabled': False, 'is_translator': False, 'is_translation_enabled': False, 'profile_background_color': 'F5F8FA', 'profile_background_image_url': None, 'profile_background_image_url_https': None, 'profile_background_tile': False, 'profile_image_url': 'http://abs.twimg.com/sticky/default_profile_images/default_profile_normal.png', 'profile_image_url_https': 'https://abs.twimg.com/sticky/default_profile_images/default_profile_normal.png', 'profile_link_color': '1DA1F2', 'profile_sidebar_border_color': 'C0DEED', 'profile_sidebar_fill_color': 'DDEEF6', 'profile_text_color': '333333', 'profile_use_background_image': True, 'has_extended_profile': True, 'default_profile': True, 'default_profile_image': True, 'following': False, 'follow_request_sent': False, 'notifications': False, 'translator_type': 'none', 'withheld_in_countries': []}, 'geo': None, 'coordinates': None, 'place': None, 'contributors': None, 'is_quote_status': False, 'retweet_count': 0, 'favorite_count': 0, 'favorited': False, 'retweeted': False, 'lang': 'es'}, created_at=datetime.datetime(2021, 5, 20, 23, 52, 36), id=1395527913441796096, id_str='1395527913441796096', text='#USTATUNJA @santotomastunja facultad de ingenieria de sistemas', truncated=False, entities={'hashtags': [{'text': 'USTATUNJA', 'indices': [0, 10]}], 'symbols': [], 'user_mentions': [{'screen_name': 'santotomastunja', 'name': 'Universidad Santo Tomás - Seccional Tunja', 'id': 834119844, 'id_str': '834119844', 'indices': [11, 27]}], 'urls': []}, source='usta_test', source_url='https://help.twitter.com/en/using-twitter/how-to-tweet#source-labels', in_reply_to_status_id=None, in_reply_to_status_id_str=None, in_reply_to_user_id=None, in_reply_to_user_id_str=None, in_reply_to_screen_name=None, author=User(_api=<tweepy.api.API object at 0x7faf466382d0>, _json={'id': 1395168973088505858, 'id_str': '1395168973088505858', 'name': 'Fabian Danilo Rodriguez Ochoa', 'screen_name': 'FabianDaniloRo1', 'location': '', 'description': '', 'url': None, 'entities': {'description': {'urls': []}}, 'protected': False, 'followers_count': 0, 'friends_count': 0, 'listed_count': 0, 'created_at': 'Thu May 20 00:06:36 +0000 2021', 'favourites_count': 0, 'utc_offset': None, 'time_zone': None, 'geo_enabled': False, 'verified': False, 'statuses_count': 1, 'lang': None, 'contributors_enabled': False, 'is_translator': False, 'is_translation_enabled': False, 'profile_background_color': 'F5F8FA', 'profile_background_image_url': None, 'profile_background_image_url_https': None, 'profile_background_tile': False, 'profile_image_url': 'http://abs.twimg.com/sticky/default_profile_images/default_profile_normal.png', 'profile_image_url_https': 'https://abs.twimg.com/sticky/default_profile_images/default_profile_normal.png', 'profile_link_color': '1DA1F2', 'profile_sidebar_border_color': 'C0DEED', 'profile_sidebar_fill_color': 'DDEEF6', 'profile_text_color': '333333', 'profile_use_background_image': True, 'has_extended_profile': True, 'default_profile': True, 'default_profile_image': True, 'following': False, 'follow_request_sent': False, 'notifications': False, 'translator_type': 'none', 'withheld_in_countries': []}, id=1395168973088505858, id_str='1395168973088505858', name='Fabian Danilo Rodriguez Ochoa', screen_name='FabianDaniloRo1', location='', description='', url=None, entities={'description': {'urls': []}}, protected=False, followers_count=0, friends_count=0, listed_count=0, created_at=datetime.datetime(2021, 5, 20, 0, 6, 36), favourites_count=0, utc_offset=None, time_zone=None, geo_enabled=False, verified=False, statuses_count=1, lang=None, contributors_enabled=False, is_translator=False, is_translation_enabled=False, profile_background_color='F5F8FA', profile_background_image_url=None, profile_background_image_url_https=None, profile_background_tile=False, profile_image_url='http://abs.twimg.com/sticky/default_profile_images/default_profile_normal.png', profile_image_url_https='https://abs.twimg.com/sticky/default_profile_images/default_profile_normal.png', profile_link_color='1DA1F2', profile_sidebar_border_color='C0DEED', profile_sidebar_fill_color='DDEEF6', profile_text_color='333333', profile_use_background_image=True, has_extended_profile=True, default_profile=True, default_profile_image=True, following=False, follow_request_sent=False, notifications=False, translator_type='none', withheld_in_countries=[]), user=User(_api=<tweepy.api.API object at 0x7faf466382d0>, _json={'id': 1395168973088505858, 'id_str': '1395168973088505858', 'name': 'Fabian Danilo Rodriguez Ochoa', 'screen_name': 'FabianDaniloRo1', 'location': '', 'description': '', 'url': None, 'entities': {'description': {'urls': []}}, 'protected': False, 'followers_count': 0, 'friends_count': 0, 'listed_count': 0, 'created_at': 'Thu May 20 00:06:36 +0000 2021', 'favourites_count': 0, 'utc_offset': None, 'time_zone': None, 'geo_enabled': False, 'verified': False, 'statuses_count': 1, 'lang': None, 'contributors_enabled': False, 'is_translator': False, 'is_translation_enabled': False, 'profile_background_color': 'F5F8FA', 'profile_background_image_url': None, 'profile_background_image_url_https': None, 'profile_background_tile': False, 'profile_image_url': 'http://abs.twimg.com/sticky/default_profile_images/default_profile_normal.png', 'profile_image_url_https': 'https://abs.twimg.com/sticky/default_profile_images/default_profile_normal.png', 'profile_link_color': '1DA1F2', 'profile_sidebar_border_color': 'C0DEED', 'profile_sidebar_fill_color': 'DDEEF6', 'profile_text_color': '333333', 'profile_use_background_image': True, 'has_extended_profile': True, 'default_profile': True, 'default_profile_image': True, 'following': False, 'follow_request_sent': False, 'notifications': False, 'translator_type': 'none', 'withheld_in_countries': []}, id=1395168973088505858, id_str='1395168973088505858', name='Fabian Danilo Rodriguez Ochoa', screen_name='FabianDaniloRo1', location='', description='', url=None, entities={'description': {'urls': []}}, protected=False, followers_count=0, friends_count=0, listed_count=0, created_at=datetime.datetime(2021, 5, 20, 0, 6, 36), favourites_count=0, utc_offset=None, time_zone=None, geo_enabled=False, verified=False, statuses_count=1, lang=None, contributors_enabled=False, is_translator=False, is_translation_enabled=False, profile_background_color='F5F8FA', profile_background_image_url=None, profile_background_image_url_https=None, profile_background_tile=False, profile_image_url='http://abs.twimg.com/sticky/default_profile_images/default_profile_normal.png', profile_image_url_https='https://abs.twimg.com/sticky/default_profile_images/default_profile_normal.png', profile_link_color='1DA1F2', profile_sidebar_border_color='C0DEED', profile_sidebar_fill_color='DDEEF6', profile_text_color='333333', profile_use_background_image=True, has_extended_profile=True, default_profile=True, default_profile_image=True, following=False, follow_request_sent=False, notifications=False, translator_type='none', withheld_in_countries=[]), geo=None, coordinates=None, place=None, contributors=None, is_quote_status=False, retweet_count=0, favorite_count=0, favorited=False, retweeted=False, lang='es')"
            ]
          },
          "metadata": {
            "tags": []
          },
          "execution_count": 29
        }
      ]
    },
    {
      "cell_type": "markdown",
      "metadata": {
        "id": "NSAE__VWCP7h"
      },
      "source": [
        "#Obtener data de Twitter"
      ]
    },
    {
      "cell_type": "code",
      "metadata": {
        "id": "0chPk8L2CSLv"
      },
      "source": [
        "search_words = '#CopaAmerica2021'\n",
        "data_since = '2020-01-01'"
      ],
      "execution_count": 69,
      "outputs": []
    },
    {
      "cell_type": "code",
      "metadata": {
        "id": "3Gj2VokONxOv",
        "colab": {
          "base_uri": "https://localhost:8080/",
          "height": 35
        },
        "outputId": "bf420a29-ecbe-4258-c238-7aa8dde06ac7"
      },
      "source": [
        "search = search_words + '-filter:retweets'\n",
        "search"
      ],
      "execution_count": 70,
      "outputs": [
        {
          "output_type": "execute_result",
          "data": {
            "application/vnd.google.colaboratory.intrinsic+json": {
              "type": "string"
            },
            "text/plain": [
              "'#CopaAmerica2021-filter:retweets'"
            ]
          },
          "metadata": {
            "tags": []
          },
          "execution_count": 70
        }
      ]
    },
    {
      "cell_type": "code",
      "metadata": {
        "id": "48SgKJ_kNzwz"
      },
      "source": [
        "tweets = tw.Cursor(api.search, search, lang='es', since=data_since).items(100)\n",
        "#[tweet.text for tweet in tweets]"
      ],
      "execution_count": 74,
      "outputs": []
    },
    {
      "cell_type": "markdown",
      "metadata": {
        "id": "M_N4KOJMOp59"
      },
      "source": [
        "#Conversión en dataframe"
      ]
    },
    {
      "cell_type": "code",
      "metadata": {
        "id": "4JJN5Tc5Or2q"
      },
      "source": [
        "data_frame = [[tweet.user.screen_name, tweet.user.location,tweet.text] for tweet in tweets]"
      ],
      "execution_count": 75,
      "outputs": []
    },
    {
      "cell_type": "code",
      "metadata": {
        "id": "IACTGjwiPBfe"
      },
      "source": [
        "tw_dataframe = pd.DataFrame(data= data_frame , columns=[\"user\",\"location\",\"text\"])"
      ],
      "execution_count": 76,
      "outputs": []
    },
    {
      "cell_type": "code",
      "metadata": {
        "colab": {
          "base_uri": "https://localhost:8080/",
          "height": 406
        },
        "id": "VL0z5zaMPFsF",
        "outputId": "0ca6fb58-0d12-48b5-81c3-7be2a9574e60"
      },
      "source": [
        "tw_dataframe"
      ],
      "execution_count": 77,
      "outputs": [
        {
          "output_type": "execute_result",
          "data": {
            "text/html": [
              "<div>\n",
              "<style scoped>\n",
              "    .dataframe tbody tr th:only-of-type {\n",
              "        vertical-align: middle;\n",
              "    }\n",
              "\n",
              "    .dataframe tbody tr th {\n",
              "        vertical-align: top;\n",
              "    }\n",
              "\n",
              "    .dataframe thead th {\n",
              "        text-align: right;\n",
              "    }\n",
              "</style>\n",
              "<table border=\"1\" class=\"dataframe\">\n",
              "  <thead>\n",
              "    <tr style=\"text-align: right;\">\n",
              "      <th></th>\n",
              "      <th>user</th>\n",
              "      <th>location</th>\n",
              "      <th>text</th>\n",
              "    </tr>\n",
              "  </thead>\n",
              "  <tbody>\n",
              "    <tr>\n",
              "      <th>0</th>\n",
              "      <td>bogotaclothingb</td>\n",
              "      <td></td>\n",
              "      <td>@dw_espanol En Colombia solicitamos que no se ...</td>\n",
              "    </tr>\n",
              "    <tr>\n",
              "      <th>1</th>\n",
              "      <td>ErickGuanoS</td>\n",
              "      <td>Quito, Ecuador</td>\n",
              "      <td>#OFICIAL: La #CopaAmerica2021 no se jugará en ...</td>\n",
              "    </tr>\n",
              "    <tr>\n",
              "      <th>2</th>\n",
              "      <td>Giankarlo23</td>\n",
              "      <td>Bogotá, D.C., Colombia</td>\n",
              "      <td>El argumento de aplazar realización de #CopaAm...</td>\n",
              "    </tr>\n",
              "    <tr>\n",
              "      <th>3</th>\n",
              "      <td>IamJuanKca</td>\n",
              "      <td>Hogwarts School of Witchcraft</td>\n",
              "      <td>Adiós al la cortina de humo con la que @IvanDu...</td>\n",
              "    </tr>\n",
              "    <tr>\n",
              "      <th>4</th>\n",
              "      <td>jandremotta</td>\n",
              "      <td>Bogota</td>\n",
              "      <td>Señores... Guarden sus álbum Panini... En el d...</td>\n",
              "    </tr>\n",
              "    <tr>\n",
              "      <th>...</th>\n",
              "      <td>...</td>\n",
              "      <td>...</td>\n",
              "      <td>...</td>\n",
              "    </tr>\n",
              "    <tr>\n",
              "      <th>95</th>\n",
              "      <td>andresGgaitan</td>\n",
              "      <td>BOGOTÁ D.C.</td>\n",
              "      <td>Definitivamente Colombia se queda sin #CopaAme...</td>\n",
              "    </tr>\n",
              "    <tr>\n",
              "      <th>96</th>\n",
              "      <td>Manuelgallego88</td>\n",
              "      <td>Medellín</td>\n",
              "      <td>La #CopaAmerica2021 no se jugará en Colombia. ...</td>\n",
              "    </tr>\n",
              "    <tr>\n",
              "      <th>97</th>\n",
              "      <td>KristhyamPerea</td>\n",
              "      <td>Medellín, Colombia</td>\n",
              "      <td>Chao #CopaAmerica2021 para 🇨🇴. ¡Resistencia, r...</td>\n",
              "    </tr>\n",
              "    <tr>\n",
              "      <th>98</th>\n",
              "      <td>jalumen35</td>\n",
              "      <td></td>\n",
              "      <td>Y todavía los medios colombianos quieren que l...</td>\n",
              "    </tr>\n",
              "    <tr>\n",
              "      <th>99</th>\n",
              "      <td>FSanabria87</td>\n",
              "      <td>Asuncion Paraguay</td>\n",
              "      <td>ATENCION!!! Colombia NO será sede de la #CopaA...</td>\n",
              "    </tr>\n",
              "  </tbody>\n",
              "</table>\n",
              "<p>100 rows × 3 columns</p>\n",
              "</div>"
            ],
            "text/plain": [
              "               user  ...                                               text\n",
              "0   bogotaclothingb  ...  @dw_espanol En Colombia solicitamos que no se ...\n",
              "1       ErickGuanoS  ...  #OFICIAL: La #CopaAmerica2021 no se jugará en ...\n",
              "2       Giankarlo23  ...  El argumento de aplazar realización de #CopaAm...\n",
              "3        IamJuanKca  ...  Adiós al la cortina de humo con la que @IvanDu...\n",
              "4       jandremotta  ...  Señores... Guarden sus álbum Panini... En el d...\n",
              "..              ...  ...                                                ...\n",
              "95    andresGgaitan  ...  Definitivamente Colombia se queda sin #CopaAme...\n",
              "96  Manuelgallego88  ...  La #CopaAmerica2021 no se jugará en Colombia. ...\n",
              "97   KristhyamPerea  ...  Chao #CopaAmerica2021 para 🇨🇴. ¡Resistencia, r...\n",
              "98        jalumen35  ...  Y todavía los medios colombianos quieren que l...\n",
              "99      FSanabria87  ...  ATENCION!!! Colombia NO será sede de la #CopaA...\n",
              "\n",
              "[100 rows x 3 columns]"
            ]
          },
          "metadata": {
            "tags": []
          },
          "execution_count": 77
        }
      ]
    },
    {
      "cell_type": "markdown",
      "metadata": {
        "id": "aQkrJ1ySPI8x"
      },
      "source": [
        "#Guardamos los datos a un CSV"
      ]
    },
    {
      "cell_type": "code",
      "metadata": {
        "colab": {
          "base_uri": "https://localhost:8080/"
        },
        "id": "xtdldBuCPMQA",
        "outputId": "ad742357-f76a-4af4-cca5-1b529bd0ee1d"
      },
      "source": [
        "from google.colab import drive\n",
        "drive.mount('/content/drive')"
      ],
      "execution_count": 78,
      "outputs": [
        {
          "output_type": "stream",
          "text": [
            "Drive already mounted at /content/drive; to attempt to forcibly remount, call drive.mount(\"/content/drive\", force_remount=True).\n"
          ],
          "name": "stdout"
        }
      ]
    },
    {
      "cell_type": "code",
      "metadata": {
        "id": "lLhkcmEtQfDF"
      },
      "source": [
        "tw_dataframe.to_csv('/content/drive/MyDrive/Colab_Notebooks/Data_Twitter/Copa_America_2021', index=False, encoding='utf-8')"
      ],
      "execution_count": 79,
      "outputs": []
    }
  ]
}