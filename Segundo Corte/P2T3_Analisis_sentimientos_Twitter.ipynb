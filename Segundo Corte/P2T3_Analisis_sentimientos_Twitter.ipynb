{
  "nbformat": 4,
  "nbformat_minor": 0,
  "metadata": {
    "colab": {
      "name": "P2T3_PLN.ipynb",
      "provenance": [],
      "toc_visible": true
    },
    "kernelspec": {
      "name": "python3",
      "display_name": "Python 3"
    },
    "language_info": {
      "name": "python"
    }
  },
  "cells": [
    {
      "cell_type": "markdown",
      "metadata": {
        "id": "LtKYGoiVj5vW"
      },
      "source": [
        "\n",
        "#Aclaraciones de librerias\n",
        "\n",
        "*   Numpy 1.12.1\n",
        "*   scikit-learn 0.18.1\n",
        "*   Elemento de la lista\n",
        "*   Matplotlib 2.0.2\n",
        "*   Pandas 0.20.1\n",
        "\n",
        "\n"
      ]
    },
    {
      "cell_type": "markdown",
      "metadata": {
        "id": "bvZ1AFnVjcf_"
      },
      "source": [
        "#Habilitando google Drive"
      ]
    },
    {
      "cell_type": "code",
      "metadata": {
        "colab": {
          "base_uri": "https://localhost:8080/"
        },
        "id": "9DB4uCcljeVU",
        "outputId": "4cf9f308-89a9-4225-a200-a0695b7bdd60"
      },
      "source": [
        "from google.colab import drive\n",
        "drive.mount('/content/drive')"
      ],
      "execution_count": 1,
      "outputs": [
        {
          "output_type": "stream",
          "text": [
            "Mounted at /content/drive\n"
          ],
          "name": "stdout"
        }
      ]
    },
    {
      "cell_type": "code",
      "metadata": {
        "colab": {
          "base_uri": "https://localhost:8080/"
        },
        "id": "mo_y3lYgjyU1",
        "outputId": "a8dd7265-6081-4e2c-8e16-6ec8d9ea9e42"
      },
      "source": [
        "# instalar librería para visualizar el progreso de ejecución una tarea en background\n",
        "!pip install pyprind"
      ],
      "execution_count": 3,
      "outputs": [
        {
          "output_type": "stream",
          "text": [
            "Collecting pyprind\n",
            "  Downloading https://files.pythonhosted.org/packages/ab/b3/1f12ebc5009c65b607509393ad98240728b4401bc3593868fb161fdd3760/PyPrind-2.11.3-py2.py3-none-any.whl\n",
            "Installing collected packages: pyprind\n",
            "Successfully installed pyprind-2.11.3\n"
          ],
          "name": "stdout"
        }
      ]
    },
    {
      "cell_type": "markdown",
      "metadata": {
        "id": "zKoX8UgAllci"
      },
      "source": [
        "#Importando librerias"
      ]
    },
    {
      "cell_type": "code",
      "metadata": {
        "id": "A5tDu4bHlohp"
      },
      "source": [
        "import xml.etree.ElementTree as etree\n",
        "import csv\n",
        "from os import scandir\n",
        "from sklearn.model_selection import train_test_split"
      ],
      "execution_count": 4,
      "outputs": []
    },
    {
      "cell_type": "code",
      "metadata": {
        "id": "dd3Zfe4zl5RH"
      },
      "source": [
        "import os \n",
        "#listado_de_archivos_desde_un_path\n",
        "def files_of_path(path): \n",
        "    return [obj.name for obj in os.scandir(path) if obj.is_file()]\n",
        "    \n",
        "files= files_of_path(\"/content/drive/MyDrive/AI/datasets/Corpus/Spanish/tass_2017\")\n",
        "for file in files:\n",
        "    print(file)"
      ],
      "execution_count": 6,
      "outputs": []
    },
    {
      "cell_type": "markdown",
      "metadata": {
        "id": "lba_1Ipyngyw"
      },
      "source": [
        "#función para convertir listas en archivos CSV"
      ]
    },
    {
      "cell_type": "code",
      "metadata": {
        "id": "yKfDwlOknjV6"
      },
      "source": [
        "def list_to_csv(data, filename):\n",
        "  with open(filename, 'w', encoding='utf-8') as csvfile:\n",
        "    writer = csv.writer(csvfile, delimiter=',', lineterminator='\\n', quoting=csv.QUOTE_NONNUMERIC)\n",
        "    writer.writerows(data)"
      ],
      "execution_count": 7,
      "outputs": []
    },
    {
      "cell_type": "markdown",
      "metadata": {
        "id": "96qnOHyMnmwa"
      },
      "source": [
        "#función para cargar de un CSV a una LISTA (messages | labels)"
      ]
    },
    {
      "cell_type": "code",
      "metadata": {
        "id": "0hib-XaRnpaG"
      },
      "source": [
        "def csv_to_lists(filename):\n",
        "  messages = []\n",
        "  labels = []\n",
        "  with open(filename, 'r', encoding='utf-8') as csvfile:\n",
        "    reader = csv.reader(csvfile, delimiter=',')\n",
        "    for row in reader:\n",
        "      messages.append(row[1])\n",
        "      labels.append(row[2])\n",
        "  return messages, labels"
      ],
      "execution_count": 8,
      "outputs": []
    },
    {
      "cell_type": "markdown",
      "metadata": {
        "id": "rtcN5jk4n7zY"
      },
      "source": [
        "#funciones para prasear xml en un dataframe"
      ]
    },
    {
      "cell_type": "markdown",
      "metadata": {
        "id": "XVaYUUV6n9lO"
      },
      "source": [
        "##corpus de general tweetid | content | sentiments/polarity/value"
      ]
    },
    {
      "cell_type": "code",
      "metadata": {
        "id": "NKbd-3aCoA6_"
      },
      "source": [
        "def general_tass_to_list(filename):\n",
        "  tree = etree.parse(filename)\n",
        "  root = tree.getroot()\n",
        "  data = []\n",
        "\n",
        "  for tweet in root:\n",
        "    tweetId = tweet.find('tweetid').text\n",
        "    content = tweet.find('content').text\n",
        "    polarityValue = tweet.find('sentiments/polarity/value').text\n",
        "    data.append([tweetId, content.replace('\\n',' '), polarityValue])\n",
        "  return data"
      ],
      "execution_count": 9,
      "outputs": []
    },
    {
      "cell_type": "code",
      "metadata": {
        "id": "Tv0Dk4CtoFRU"
      },
      "source": [
        "def general_tass_2017_to_list(filename,qrel=None):\n",
        "  tree = etree.parse(filename)\n",
        "  root = tree.getroot()\n",
        "  data = []\n",
        "\n",
        "  for tweet in root:\n",
        "    tweetId = tweet.find('tweetid').text\n",
        "    content = tweet.find('content').text\n",
        "    polarityValue = qrel[tweetId]\n",
        "    data.append([tweetId, content.replace('\\n',' '), polarityValue])\n",
        "\n",
        "  return data"
      ],
      "execution_count": 10,
      "outputs": []
    },
    {
      "cell_type": "markdown",
      "metadata": {
        "id": "3XgXVIdkoIpC"
      },
      "source": [
        "##Corpus politics tweetid | content | sentiments/polarity"
      ]
    },
    {
      "cell_type": "code",
      "metadata": {
        "id": "NFyE00VEoKM3"
      },
      "source": [
        "def politics_tass_to_list(filename):\n",
        "  tree = etree.parse(filename)\n",
        "  root = tree.getroot()\n",
        "  data = []\n",
        "\n",
        "  for tweet in root:\n",
        "    tweetId = tweet.find('tweetid').text\n",
        "    content = tweet.find('content').text\n",
        "    aux = next((e for e in tweet.findall('sentiments/polarity') if e.find('entity') == None), None)\n",
        "    if aux != None:\n",
        "      polarityValue = aux.find('value').text\n",
        "      data.append([tweetId, content.replace('\\n',' '), polarityValue])\n",
        "  return data"
      ],
      "execution_count": 11,
      "outputs": []
    },
    {
      "cell_type": "markdown",
      "metadata": {
        "id": "vhLbZnDroZmj"
      },
      "source": [
        "##corpus de internacional tweetid | content | sentiments/polarity/value"
      ]
    },
    {
      "cell_type": "code",
      "metadata": {
        "id": "HNSspWQxoa0i"
      },
      "source": [
        "def intertass_tass_to_list(filename, qrel=None):\n",
        "  tree = etree.parse(filename)\n",
        "  root = tree.getroot()\n",
        "  data = []\n",
        "\n",
        "  for tweet in root:\n",
        "    tweetId = tweet.find('tweetid').text\n",
        "    content = tweet.find('content').text\n",
        "    polarityValue = tweet.find('sentiment/polarity/value').text\n",
        "    if polarityValue == None:\n",
        "      polarityValue = qrel[tweetId]\n",
        "      data.append([tweetId, content.replace('\\n',' '), polarityValue])\n",
        "  return data"
      ],
      "execution_count": 12,
      "outputs": []
    },
    {
      "cell_type": "markdown",
      "metadata": {
        "id": "3KcEyeDro8jr"
      },
      "source": [
        "##funcion para unir los tweets corpus general test con sus sentimientos"
      ]
    },
    {
      "cell_type": "code",
      "metadata": {
        "id": "Uvr5gBnvpDE7"
      },
      "source": [
        "def gold_standard_to_dict(filename):\n",
        "  with open(filename, 'r') as csvfile:\n",
        "    reader = csv.reader(csvfile, delimiter='\\t')\n",
        "    data = {rows[0]: rows[1] for rows in reader}\n",
        "\n",
        "  return data"
      ],
      "execution_count": 13,
      "outputs": []
    },
    {
      "cell_type": "markdown",
      "metadata": {
        "id": "huHN9uy6pJHB"
      },
      "source": [
        "#Función para separar el 100% del corpus entre Train(70%) y Test(30%)"
      ]
    },
    {
      "cell_type": "code",
      "metadata": {
        "id": "3QYEihRppLAu"
      },
      "source": [
        "def generate_train_test_subsets(data, size):\n",
        "     codes = [d[0] for d in data]\n",
        "     labels = [d[2] for d in data]\n",
        "     codes_train, codes_test, labels_train, label_test = train_test_split(codes, labels, train_size=size)\n",
        "     train_data = [d for d in data if d[0] in codes_train]\n",
        "     test_data = [d for d in data if d[0] in codes_test]\n",
        "     return train_data, test_data"
      ],
      "execution_count": 14,
      "outputs": []
    },
    {
      "cell_type": "markdown",
      "metadata": {
        "id": "f4nMz8UXpoNZ"
      },
      "source": [
        "#Ejecutar cada función de parsear los copus y guardarlo en un CSV(full, train, test)"
      ]
    },
    {
      "cell_type": "code",
      "metadata": {
        "id": "PY7I8zU2ppjZ"
      },
      "source": [
        "data = []"
      ],
      "execution_count": 15,
      "outputs": []
    },
    {
      "cell_type": "markdown",
      "metadata": {
        "id": "JBMvAQ7hiXm7"
      },
      "source": [
        "##Tomamos el corpus internacional (test) y generamos una lista de ID del tweet y el sentimiento para agregarlo a la data"
      ]
    },
    {
      "cell_type": "code",
      "metadata": {
        "id": "jpoOzyxnjGoK"
      },
      "source": [
        "qrel = gold_standard_to_dict('/content/drive/MyDrive/AI/datasets/Corpus/Spanish/tass_2017/InterTASS/InterTASS_Test_res.qrel')"
      ],
      "execution_count": 17,
      "outputs": []
    },
    {
      "cell_type": "markdown",
      "metadata": {
        "id": "0MZZbKHakBqT"
      },
      "source": [
        "Como el test del corpus internacional esta sin los sentimientos, es necesario agregarlos"
      ]
    },
    {
      "cell_type": "code",
      "metadata": {
        "id": "3wW3--aDkEVl"
      },
      "source": [
        "data.extend(intertass_tass_to_list(\n",
        "    '/content/drive/MyDrive/AI/datasets/Corpus/Spanish/tass_2017/InterTASS/InterTASS_Test.xml', \n",
        "    qrel\n",
        "))\n",
        "\n",
        "data.extend(intertass_tass_to_list(\n",
        "    '/content/drive/MyDrive/AI/datasets/Corpus/Spanish/tass_2017/InterTASS/InterTASS_development.xml'\n",
        "))\n",
        "\n",
        "data.extend(intertass_tass_to_list(\n",
        "    '/content/drive/MyDrive/AI/datasets/Corpus/Spanish/tass_2017/InterTASS/InterTASS_Training.xml'   \n",
        "))"
      ],
      "execution_count": 18,
      "outputs": []
    },
    {
      "cell_type": "markdown",
      "metadata": {
        "id": "g5eXWlh2kZ5Z"
      },
      "source": [
        "##Parceamos el general TASS"
      ]
    },
    {
      "cell_type": "code",
      "metadata": {
        "id": "ADWu4TEOkb79"
      },
      "source": [
        "qrel = gold_standard_to_dict('/content/drive/MyDrive/AI/datasets/Corpus/Spanish/tass_2017/General Corpus of TASS/general-sentiment-3l.qrel')"
      ],
      "execution_count": 19,
      "outputs": []
    },
    {
      "cell_type": "code",
      "metadata": {
        "id": "KOTKFLOzkmTx"
      },
      "source": [
        "data.extend(general_tass_2017_to_list(\n",
        "    '/content/drive/MyDrive/AI/datasets/Corpus/Spanish/tass_2017/General Corpus of TASS/general-tweets-test.xml',\n",
        "    qrel\n",
        "))\n"
      ],
      "execution_count": 20,
      "outputs": []
    },
    {
      "cell_type": "markdown",
      "metadata": {
        "id": "wXsF__djkyFw"
      },
      "source": [
        "##Parceamos el STOMPOL (política) TASS_2014"
      ]
    },
    {
      "cell_type": "code",
      "metadata": {
        "id": "JLbVto-ok1VX"
      },
      "source": [
        "data.extend(politics_tass_to_list(\n",
        "    '/content/drive/MyDrive/AI/datasets/Corpus/Spanish/tass_2014/politics-test-tagged.xml'\n",
        "))"
      ],
      "execution_count": 21,
      "outputs": []
    },
    {
      "cell_type": "markdown",
      "metadata": {
        "id": "s5nt5cdlm44A"
      },
      "source": [
        "##Separamos la data en Train y Test"
      ]
    },
    {
      "cell_type": "code",
      "metadata": {
        "id": "AKMzBYADm7UO"
      },
      "source": [
        "train, test = (generate_train_test_subsets(data, size=0.3))"
      ],
      "execution_count": 24,
      "outputs": []
    },
    {
      "cell_type": "code",
      "metadata": {
        "id": "a6CMffyFnAKk"
      },
      "source": [
        "list_to_csv(data, '/content/drive/MyDrive/AI/datasets/Corpus/Spanish/dataset_2017_full.csv')\n",
        "list_to_csv(train, '/content/drive/MyDrive/AI/datasets/Corpus/Spanish/dataset_2017_train.csv')\n",
        "list_to_csv(test, '/content/drive/MyDrive/AI/datasets/Corpus/Spanish/dataset_2017_test.csv')"
      ],
      "execution_count": 25,
      "outputs": []
    },
    {
      "cell_type": "markdown",
      "metadata": {
        "id": "_EgYwsWnNrsv"
      },
      "source": [
        "#Preprocesamiento del corpus"
      ]
    },
    {
      "cell_type": "markdown",
      "metadata": {
        "id": "psni24rFNyS4"
      },
      "source": [
        "##Cargar librerías necesarias"
      ]
    },
    {
      "cell_type": "code",
      "metadata": {
        "id": "tr_R4WnGNzjc"
      },
      "source": [
        "import re\n",
        "from nltk import TweetTokenizer\n",
        "from nltk.stem import SnowballStemmer"
      ],
      "execution_count": 26,
      "outputs": []
    },
    {
      "cell_type": "markdown",
      "metadata": {
        "id": "XH1gnRFpOpgc"
      },
      "source": [
        "Varaibles para mejorar la escritura (opcional)"
      ]
    },
    {
      "cell_type": "code",
      "metadata": {
        "id": "lg_g1BX6Oqu2"
      },
      "source": [
        "NORMALIZE = 'normalize'\n",
        "REMOVE = 'remove'\n",
        "MENTION = 'twmention'\n",
        "HASHTAG = 'twhashtag'\n",
        "URL = 'twurl'\n",
        "LAUGH = 'twlaugh'"
      ],
      "execution_count": 27,
      "outputs": []
    },
    {
      "cell_type": "markdown",
      "metadata": {
        "id": "K7KOiVg3P2SZ"
      },
      "source": [
        "\n",
        "Definir que el algortimo de clasificación use el idimoa español"
      ]
    },
    {
      "cell_type": "code",
      "metadata": {
        "id": "vuyhCZtDP3M8"
      },
      "source": [
        "_stemmer = SnowballStemmer('spanish')"
      ],
      "execution_count": 28,
      "outputs": []
    },
    {
      "cell_type": "markdown",
      "metadata": {
        "id": "Mkif8IrZQ7Cu"
      },
      "source": [
        "Definir una variable para la funcipon de tokenizar (opcional)"
      ]
    },
    {
      "cell_type": "code",
      "metadata": {
        "id": "9Zft6JqfQ8NL"
      },
      "source": [
        "_tokenizer = TweetTokenizer().tokenize"
      ],
      "execution_count": 29,
      "outputs": []
    },
    {
      "cell_type": "markdown",
      "metadata": {
        "id": "GLtb1KizQ-23"
      },
      "source": [
        "Variable para definir si quiero normalizar o eliminar: remove los hashtag, menciones y urls en los tweets"
      ]
    },
    {
      "cell_type": "code",
      "metadata": {
        "id": "6dI-6F9HRB1x"
      },
      "source": [
        "_twitter_features = 'normalize'"
      ],
      "execution_count": 31,
      "outputs": []
    },
    {
      "cell_type": "markdown",
      "metadata": {
        "id": "zGsiCoa9RHtc"
      },
      "source": [
        "Variable para definir si se desea convertir o no a la raiz de la palabra"
      ]
    },
    {
      "cell_type": "code",
      "metadata": {
        "id": "v83jZCdBRJHO"
      },
      "source": [
        "_stemming = False"
      ],
      "execution_count": 32,
      "outputs": []
    },
    {
      "cell_type": "markdown",
      "metadata": {
        "id": "kxUb5FZrRUSJ"
      },
      "source": [
        "##Funciones / métodos de preprocesamiento"
      ]
    },
    {
      "cell_type": "markdown",
      "metadata": {
        "id": "4KH_Gsl4RZJE"
      },
      "source": [
        "Listas de Conversión (Quitar tildes y palabras coloquiales)\n",
        "Lista de conversión para quitar las tildes a las vocales"
      ]
    },
    {
      "cell_type": "code",
      "metadata": {
        "id": "a6AwSJZIRaXr"
      },
      "source": [
        "DIACRITICAL_VOWELS = [('á', 'a'), ('é', 'e'), ('í', 'i'), ('ó', 'o'), ('ú', 'u'), ('ü', 'u')]"
      ],
      "execution_count": 33,
      "outputs": []
    },
    {
      "cell_type": "markdown",
      "metadata": {
        "id": "Aq-7XwT_Rfy_"
      },
      "source": [
        "Lista para corregir algunas palabras coloquiales / jerga en español (palabras básicas)"
      ]
    },
    {
      "cell_type": "code",
      "metadata": {
        "id": "6QxAMNZjRgmf"
      },
      "source": [
        "SLANG = [('d', 'de'), ('(q|k)', 'que'), ('[qk]', 'que'), ('xo', 'pero'), ('xa', 'para'), \n",
        "         ('[xq]', 'porque'), ('fvr', 'favor'), ('(xfa|xf|pf|plis|pls|porfa)', 'por favor'),\n",
        "         ('dnd', 'donde'), ('tb', 'tambien'), ('(tq|tk)', 'te quiero'), ('tqm', 'te quiero mucho'),\n",
        "         ('x', 'por'), ('\\+', 'mas'), ('maso', 'mas o menos'), ('(holi|hl)', 'hola'), \n",
        "         ('wnas', 'buenas'), ('nd', 'nada'), ('msj', 'mensaje'), ('es3', 'estre'), ('tp', 'tampoco'), \n",
        "         ('(wno|weno|bn)', 'bueno'), ('DM', 'mensaje directo'), ('BFF', 'mejores amigos para siempre'),\n",
        "         ('OMG', 'Oh Dios mio'), ('TBT', 'jueves de vuelta al pasado')]"
      ],
      "execution_count": 34,
      "outputs": []
    },
    {
      "cell_type": "markdown",
      "metadata": {
        "id": "XWa06h-dRjNN"
      },
      "source": [
        "Función / método de normalización de risas"
      ]
    },
    {
      "cell_type": "code",
      "metadata": {
        "id": "Bf-wKhzqRllc"
      },
      "source": [
        "def normalize_laughs(message):\n",
        "    message = re.sub(r'\\b(?=\\w*[j])[aeiouj]{4,}\\b', LAUGH, message, flags=re.IGNORECASE)\n",
        "    message = re.sub(r'\\b(?=\\w*[k])[aeiouk]{4,}\\b', LAUGH, message, flags=re.IGNORECASE)\n",
        "    message = re.sub(r'\\b(?=\\w*[h])[aeiouh]{4,}\\b', LAUGH, message, flags=re.IGNORECASE)\n",
        "    message = re.sub(r'\\b(juas+|lol)\\b', LAUGH, message, flags=re.IGNORECASE)\n",
        "    return message"
      ],
      "execution_count": 35,
      "outputs": []
    },
    {
      "cell_type": "code",
      "metadata": {
        "colab": {
          "base_uri": "https://localhost:8080/"
        },
        "id": "s0smag9CRrRv",
        "outputId": "e4d350b2-c99f-4e29-8f15-f139edc3407f"
      },
      "source": [
        "print(normalize_laughs('jajaja, jejeje, Lol, hohoho, kokoko'))"
      ],
      "execution_count": 36,
      "outputs": [
        {
          "output_type": "stream",
          "text": [
            "twlaugh, twlaugh, twlaugh, twlaugh, twlaugh\n"
          ],
          "name": "stdout"
        }
      ]
    },
    {
      "cell_type": "markdown",
      "metadata": {
        "id": "nCztQHZdRxOv"
      },
      "source": [
        "Función / método para eliminar o normalizar menciones, hashtags y URL de un mensaje (tweet)"
      ]
    },
    {
      "cell_type": "code",
      "metadata": {
        "id": "6xwc3VKnRyEh"
      },
      "source": [
        "def process_twiter_features(message, twitter_features):\n",
        "    message = re.sub(r'[\\.\\,]http', '. http', message, flags=re.IGNORECASE)\n",
        "    message = re.sub(r'[\\.\\,]#', '. #', message)\n",
        "    message = re.sub(r'[\\.\\,]@', '. @', message)\n",
        "    if twitter_features == REMOVE:\n",
        "        # Eliminar menciones, hashtags y URL\n",
        "        message = re.sub(r'((?<=\\s)|(?<=\\A))(@|#)\\S+', '', message)\n",
        "        message = re.sub(r'\\b(https?:\\S+)\\b', '', message, flags=re.IGNORECASE)\n",
        "    elif twitter_features == NORMALIZE:\n",
        "        # Cuando sea necesario se normalizaran las menciones, hashtags y URL\n",
        "        message = re.sub(r'((?<=\\s)|(?<=\\A))@\\S+', MENTION, message)\n",
        "        message = re.sub(r'((?<=\\s)|(?<=\\A))#\\S+', HASHTAG, message)\n",
        "        message = re.sub(r'\\b(https?:\\S+)\\b', URL, message, flags=re.IGNORECASE)\n",
        "    return message"
      ],
      "execution_count": 38,
      "outputs": []
    },
    {
      "cell_type": "code",
      "metadata": {
        "colab": {
          "base_uri": "https://localhost:8080/"
        },
        "id": "rEOlut9TR-vT",
        "outputId": "29b102a5-b638-4299-897d-bed888148010"
      },
      "source": [
        "print(process_twiter_features('@MarvelStudios, #MarvelStudios, https://marvelstudios.com', 'normalize'))"
      ],
      "execution_count": 119,
      "outputs": [
        {
          "output_type": "stream",
          "text": [
            "twmention twhashtag twurl\n"
          ],
          "name": "stdout"
        }
      ]
    },
    {
      "cell_type": "markdown",
      "metadata": {
        "id": "OcXbXgYzSBq3"
      },
      "source": [
        "Función / método general para el preprocesamiento"
      ]
    },
    {
      "cell_type": "code",
      "metadata": {
        "id": "Btnk_NuHSDGG"
      },
      "source": [
        "def preprocess(message):\n",
        "    message = message.lower()\n",
        "\n",
        "    # Eliminar números, retorno de línea y los retweet(antiguos estilos de twitter)\n",
        "    message = re.sub(r'(\\d+|\\n|\\brt\\b)', '', message)\n",
        "\n",
        "    # Eliminar vocales con signos diacríticos (posibles ambigüedades)\n",
        "    for s,t in DIACRITICAL_VOWELS:\n",
        "        message = re.sub(r'{0}'.format(s), t, message)\n",
        "\n",
        "    # Eliminar caracteres repetidos\n",
        "    message = re.sub(r'(.)\\1{2,}', r'\\1\\1', message)\n",
        "    \n",
        "    # Normalizar las risas\n",
        "    message = normalize_laughs(message)\n",
        "\n",
        "    # Traducir la jerga y terminos coloquiales sobre todo en el español\n",
        "    for s,t in SLANG:\n",
        "        message = re.sub(r'\\b{0}\\b'.format(s), t, message)\n",
        "    \n",
        "    # Normalizar - eliminar hashtags, menciones y URL\n",
        "    message = process_twiter_features(message, _twitter_features)\n",
        "\n",
        "    # Convertir las palabras a su raiz (Bonito, Bonita --> bonit)\n",
        "    if _stemming: \n",
        "        message = ' '.join(_stemer.stem(w) for w in _tokenizer(message))\n",
        "\n",
        "    return message"
      ],
      "execution_count": 40,
      "outputs": []
    },
    {
      "cell_type": "code",
      "metadata": {
        "colab": {
          "base_uri": "https://localhost:8080/"
        },
        "id": "2Be84Iy3SW1a",
        "outputId": "afb51afa-fc29-4f1b-b01a-585e73f7118e"
      },
      "source": [
        "print(preprocess(\"jajaja, @fabianr8a\"))"
      ],
      "execution_count": 44,
      "outputs": [
        {
          "output_type": "stream",
          "text": [
            "twlaugh, twmention\n"
          ],
          "name": "stdout"
        }
      ]
    },
    {
      "cell_type": "markdown",
      "metadata": {
        "id": "idOCbXC2SakW"
      },
      "source": [
        "##**Descargar las librerías NLTK**"
      ]
    },
    {
      "cell_type": "markdown",
      "metadata": {
        "id": "F2yvUX5uSneN"
      },
      "source": [
        "Descargamos la librería de stopwords"
      ]
    },
    {
      "cell_type": "code",
      "metadata": {
        "colab": {
          "base_uri": "https://localhost:8080/"
        },
        "id": "0gqMVvs-Sih4",
        "outputId": "24bb1254-7e80-4c6c-e88b-61e3fcd8f422"
      },
      "source": [
        "import nltk\n",
        "nltk.download('stopwords')"
      ],
      "execution_count": 42,
      "outputs": [
        {
          "output_type": "stream",
          "text": [
            "[nltk_data] Downloading package stopwords to /root/nltk_data...\n",
            "[nltk_data]   Unzipping corpora/stopwords.zip.\n"
          ],
          "name": "stdout"
        },
        {
          "output_type": "execute_result",
          "data": {
            "text/plain": [
              "True"
            ]
          },
          "metadata": {
            "tags": []
          },
          "execution_count": 42
        }
      ]
    },
    {
      "cell_type": "markdown",
      "metadata": {
        "id": "ATu6gQ0DSsFn"
      },
      "source": [
        "#**Cargamos el CSV del corpus**"
      ]
    },
    {
      "cell_type": "markdown",
      "metadata": {
        "id": "4qxv1tc4StzN"
      },
      "source": [
        "##Cargamos el CSV del corpus"
      ]
    },
    {
      "cell_type": "code",
      "metadata": {
        "id": "D-5VMDbLTRhB"
      },
      "source": [
        "import numpy as np\n",
        "import pandas as pd\n",
        "\n",
        "df = pd.read_csv('/content/drive/MyDrive/AI/datasets/Corpus/Spanish/dataset_2017_full.csv', encoding='utf-8')"
      ],
      "execution_count": 45,
      "outputs": []
    },
    {
      "cell_type": "markdown",
      "metadata": {
        "id": "FZtyTQhzWoYH"
      },
      "source": [
        "Asignamos nombres a las columnas del csv para facilitar la búsqueda de información"
      ]
    },
    {
      "cell_type": "code",
      "metadata": {
        "id": "JaSZLRbRanYM"
      },
      "source": [
        "df.columns = ['tweetid', 'tweet', 'sentiment']"
      ],
      "execution_count": 46,
      "outputs": []
    },
    {
      "cell_type": "markdown",
      "metadata": {
        "id": "pZ71TsAaaqmQ"
      },
      "source": [
        "Aplicamos el preprocesamiento a los tweets con steaming = False"
      ]
    },
    {
      "cell_type": "code",
      "metadata": {
        "id": "2iFKlNN2asYp"
      },
      "source": [
        "df['tweet'] = df['tweet'].apply(preprocess)"
      ],
      "execution_count": 47,
      "outputs": []
    },
    {
      "cell_type": "markdown",
      "metadata": {
        "id": "IikfdVBia45m"
      },
      "source": [
        "Eliminamos la columna tweetid que no nos sirve para entrenar y si genera más uso de memoria"
      ]
    },
    {
      "cell_type": "code",
      "metadata": {
        "id": "i3R92_Xpa5qX"
      },
      "source": [
        "df = df.drop(columns='tweetid')"
      ],
      "execution_count": 48,
      "outputs": []
    },
    {
      "cell_type": "markdown",
      "metadata": {
        "id": "t_0WjfWfbAyf"
      },
      "source": [
        "Es mejor trabajar con valores enteros que con letras, por lo tanto reemplazaremos los sentimientos"
      ]
    },
    {
      "cell_type": "code",
      "metadata": {
        "colab": {
          "base_uri": "https://localhost:8080/"
        },
        "id": "OCNy1qCMbBg_",
        "outputId": "52919bdd-cd53-4828-e6d3-922a7f5e272b"
      },
      "source": [
        "df.loc[df['sentiment'] == 'NONE', 'sentiment'] = '-1'\n",
        "df.loc[df['sentiment'] == 'NEU', 'sentiment'] = '0'\n",
        "df.loc[df['sentiment'] == 'P', 'sentiment'] = '1'\n",
        "df.loc[df['sentiment'] == 'N', 'sentiment'] = '2'\n",
        "df['sentiment'].unique()"
      ],
      "execution_count": 49,
      "outputs": [
        {
          "output_type": "execute_result",
          "data": {
            "text/plain": [
              "array(['1', '2', '-1', '0'], dtype=object)"
            ]
          },
          "metadata": {
            "tags": []
          },
          "execution_count": 49
        }
      ]
    },
    {
      "cell_type": "markdown",
      "metadata": {
        "id": "RU1vwB4dbHiA"
      },
      "source": [
        "Guardamos el dataset en un nuevo CSV para facilitar su posterior uso"
      ]
    },
    {
      "cell_type": "code",
      "metadata": {
        "id": "K55PiOISbJ3k"
      },
      "source": [
        "df.to_csv(\n",
        "    '/content/drive/MyDrive/AI/datasets/Corpus/Spanish/dataset_2014_full_clean.csv', \n",
        "    index=False, \n",
        "    encoding='utf-8')"
      ],
      "execution_count": 50,
      "outputs": []
    },
    {
      "cell_type": "markdown",
      "metadata": {
        "id": "XGOERQQ0bWrJ"
      },
      "source": [
        "#**Entrenar el modelo de aprendizaje**"
      ]
    },
    {
      "cell_type": "markdown",
      "metadata": {
        "id": "d-wPzsxjbYJG"
      },
      "source": [
        "##**Funciones para tokenizar y extraer tweets**"
      ]
    },
    {
      "cell_type": "markdown",
      "metadata": {
        "id": "PXySDllTcNIT"
      },
      "source": [
        "**Función para tokenizar y limpiar**"
      ]
    },
    {
      "cell_type": "code",
      "metadata": {
        "id": "ywrvvcpCcPXP"
      },
      "source": [
        "def tokenizer(text):\n",
        "    text = re.sub('<[^>]*>', '', text)\n",
        "    emoticons = re.findall('(?::|;|=)(?:-)?(?:\\)|\\(|D|P)', text.lower())\n",
        "    text = re.sub('[\\W]+', ' ', text.lower()) + ' '.join(emoticons).replace('-', '')\n",
        "    tokenized = [w for w in text.split() if w not in stop]\n",
        "    return tokenized"
      ],
      "execution_count": 51,
      "outputs": []
    },
    {
      "cell_type": "markdown",
      "metadata": {
        "id": "i522kZoccgDu"
      },
      "source": [
        "**Función para extraer un documento del dataset**"
      ]
    },
    {
      "cell_type": "code",
      "metadata": {
        "id": "K2ZZ6qpIciNJ"
      },
      "source": [
        "def stream_docs(path):\n",
        "    with open(path, 'r', encoding='utf-8') as csv:\n",
        "        next(csv)       # Skip header\n",
        "        for line in csv:\n",
        "            text, label = line[:-3], int(line[-2])\n",
        "            yield text, label"
      ],
      "execution_count": 52,
      "outputs": []
    },
    {
      "cell_type": "markdown",
      "metadata": {
        "id": "kynYEkJscnoO"
      },
      "source": [
        "**Función que tomara una secuencia de documentos y devolvera un número particular de documentos**"
      ]
    },
    {
      "cell_type": "code",
      "metadata": {
        "id": "M6pl09WvcpgO"
      },
      "source": [
        "def get_minibatch(doc_stream, size):\n",
        "    docs, y = [], []\n",
        "    try:\n",
        "        for _ in range(size):\n",
        "            text, label = next(doc_stream)\n",
        "            docs.append(text)\n",
        "            y.append(label)\n",
        "    except StopIteration:\n",
        "        return None, None\n",
        "    return docs, y"
      ],
      "execution_count": 53,
      "outputs": []
    },
    {
      "cell_type": "code",
      "metadata": {
        "colab": {
          "base_uri": "https://localhost:8080/"
        },
        "id": "m7x50UJMcxFs",
        "outputId": "9dac4046-71a0-4198-dee8-7366df455e0a"
      },
      "source": [
        "next(stream_docs(path='/content/drive/MyDrive/AI/datasets/Corpus/Spanish/dataset_2014_full_clean.csv'))"
      ],
      "execution_count": 55,
      "outputs": [
        {
          "output_type": "execute_result",
          "data": {
            "text/plain": [
              "('twmention ya era hora de volver al csgo y dejares el padel bienvenida ', 1)"
            ]
          },
          "metadata": {
            "tags": []
          },
          "execution_count": 55
        }
      ]
    },
    {
      "cell_type": "markdown",
      "metadata": {
        "id": "5pbt0EJidKGc"
      },
      "source": [
        "#**Entrenamos el modelo con regresión logística**"
      ]
    },
    {
      "cell_type": "code",
      "metadata": {
        "id": "JB8hSemEdPMq"
      },
      "source": [
        "path = '/content/drive/MyDrive/AI/datasets/Corpus/Spanish/dataset_2017_full_clean.csv'"
      ],
      "execution_count": 72,
      "outputs": []
    },
    {
      "cell_type": "markdown",
      "metadata": {
        "id": "T6gOGt_AdeIu"
      },
      "source": [
        "Definimos una versión liviana de CountVectorizer + TfidfVectorizer llamada HashingVectorizer"
      ]
    },
    {
      "cell_type": "code",
      "metadata": {
        "id": "q9DiWMIVdgnW"
      },
      "source": [
        "from sklearn.feature_extraction.text import HashingVectorizer\n",
        "from sklearn.linear_model import SGDClassifier"
      ],
      "execution_count": 73,
      "outputs": []
    },
    {
      "cell_type": "code",
      "metadata": {
        "id": "Rr6ZzNGwdjqe"
      },
      "source": [
        "vect = HashingVectorizer(decode_error='ignore',\n",
        "                         n_features=2**21,\n",
        "                         preprocessor=None,\n",
        "                         tokenizer=tokenizer)"
      ],
      "execution_count": 74,
      "outputs": []
    },
    {
      "cell_type": "markdown",
      "metadata": {
        "id": "kydGSdBBdlq1"
      },
      "source": [
        "Definimos como algoritmo la regresión logística en el descenso gradiente"
      ]
    },
    {
      "cell_type": "code",
      "metadata": {
        "id": "r6ws0atDdmD9"
      },
      "source": [
        "clf = SGDClassifier(loss='log', random_state=1, max_iter=1)\n",
        "doc_stream = stream_docs(path)"
      ],
      "execution_count": 75,
      "outputs": []
    },
    {
      "cell_type": "code",
      "metadata": {
        "id": "_qTOanIzekm-"
      },
      "source": [
        "import re\n",
        "import numpy as np"
      ],
      "execution_count": 76,
      "outputs": []
    },
    {
      "cell_type": "markdown",
      "metadata": {
        "id": "y6ubq-IndqsD"
      },
      "source": [
        "Entrenamiento"
      ]
    },
    {
      "cell_type": "code",
      "metadata": {
        "id": "IMjHATWidrPm"
      },
      "source": [
        "from nltk.corpus import stopwords\n",
        "stop = stopwords.words('spanish')"
      ],
      "execution_count": 77,
      "outputs": []
    },
    {
      "cell_type": "markdown",
      "metadata": {
        "id": "3DIYcaFAduFS"
      },
      "source": [
        "Definimos las clases con las cuales vamos a entrenar"
      ]
    },
    {
      "cell_type": "code",
      "metadata": {
        "id": "PrhB0aZ3dvpS"
      },
      "source": [
        "classes = np.array([-1, 0, 1, 2])"
      ],
      "execution_count": 78,
      "outputs": []
    },
    {
      "cell_type": "code",
      "metadata": {
        "id": "Zk1LxJG9d0O4"
      },
      "source": [
        "##pbar = pyprind.ProgBar(50)\n",
        "\n",
        "for _ in range(50):\n",
        "    X_train, y_train = get_minibatch(doc_stream, size=1000)\n",
        "    if not X_train:\n",
        "        break\n",
        "    X_train = vect.transform(X_train)\n",
        "    clf.partial_fit(X_train, y_train, classes=classes)\n",
        "    ##pbar.update()"
      ],
      "execution_count": 81,
      "outputs": []
    },
    {
      "cell_type": "markdown",
      "metadata": {
        "id": "ynksOgMAe-cM"
      },
      "source": [
        "Probamos la eficiencia del modelo con 5000 tweets"
      ]
    },
    {
      "cell_type": "code",
      "metadata": {
        "id": "bgFdfEQ9e_Nu"
      },
      "source": [
        "X_test, y_test = get_minibatch(doc_stream, size=5000)\n",
        "X_test = vect.transform(X_test)"
      ],
      "execution_count": 82,
      "outputs": []
    },
    {
      "cell_type": "code",
      "metadata": {
        "colab": {
          "base_uri": "https://localhost:8080/"
        },
        "id": "x60Rvb0bfCjW",
        "outputId": "145a1ed3-e05d-4b3c-9fc1-efe677d0fe12"
      },
      "source": [
        "print('Accuracy: %.3f' % clf.score(X_test, y_test))"
      ],
      "execution_count": 83,
      "outputs": [
        {
          "output_type": "stream",
          "text": [
            "Accuracy: 0.812\n"
          ],
          "name": "stdout"
        }
      ]
    },
    {
      "cell_type": "markdown",
      "metadata": {
        "id": "FePGNXFofElM"
      },
      "source": [
        "Recalibramos el modelo"
      ]
    },
    {
      "cell_type": "code",
      "metadata": {
        "id": "NzY0YMK2fFGG"
      },
      "source": [
        "clf = clf.partial_fit(X_test, y_test)"
      ],
      "execution_count": 84,
      "outputs": []
    },
    {
      "cell_type": "markdown",
      "metadata": {
        "id": "gRbH8lXEfJET"
      },
      "source": [
        "#Serializamos / Congelamos el modelo para usarlo fuera de Google Colaboratory"
      ]
    },
    {
      "cell_type": "markdown",
      "metadata": {
        "id": "gW-Tb1B4fOMZ"
      },
      "source": [
        "Creamos una carpeta en el drive para guardar los archivos serializados"
      ]
    },
    {
      "cell_type": "code",
      "metadata": {
        "id": "qkPIwuNyfPre"
      },
      "source": [
        "import pickle\n",
        "dest = os.path.join('/content/drive/MyDrive/AI/datasets/Corpus/Spanish/TwitterClassifier', 'pkl_objects')\n",
        "if not os.path.exists(dest):\n",
        "    os.makedirs(dest)"
      ],
      "execution_count": 86,
      "outputs": []
    },
    {
      "cell_type": "markdown",
      "metadata": {
        "id": "3puwQuXzf7xg"
      },
      "source": [
        "Convertimos el clasificador y el stopword en archivo/objetos pkl. Es importante verificar que si se encuentran en dicho directorio"
      ]
    },
    {
      "cell_type": "code",
      "metadata": {
        "id": "_1_mrlRPf84w"
      },
      "source": [
        "pickle.dump(stop, open(os.path.join(dest, 'stopwords.pkl'), 'wb'), protocol=4)\n",
        "pickle.dump(clf, open(os.path.join(dest, 'classifier.pkl'), 'wb'), protocol=4)"
      ],
      "execution_count": 88,
      "outputs": []
    },
    {
      "cell_type": "markdown",
      "metadata": {
        "id": "-5aa6rv2gEy_"
      },
      "source": [
        "Para probar si funciona, cambiamos la basepath (directorio por defecto) de Python a la carpeta de TwitterClassifier"
      ]
    },
    {
      "cell_type": "code",
      "metadata": {
        "id": "wQUyl5NygFc5"
      },
      "source": [
        "os.chdir('/content/drive/MyDrive/AI/datasets/Corpus/Spanish/TwitterClassifier')"
      ],
      "execution_count": 90,
      "outputs": []
    },
    {
      "cell_type": "markdown",
      "metadata": {
        "id": "jcXN_e-NgLiG"
      },
      "source": [
        "Deserializamos los estimadores"
      ]
    },
    {
      "cell_type": "code",
      "metadata": {
        "id": "4qG66NitgMSp"
      },
      "source": [
        "clf = pickle.load(\n",
        "    open(\n",
        "        os.path.join('/content/drive/MyDrive/AI/datasets/Corpus/Spanish/TwitterClassifier/pkl_objects', \n",
        "                     'classifier.pkl'), \n",
        "         'rb'))"
      ],
      "execution_count": 92,
      "outputs": []
    },
    {
      "cell_type": "markdown",
      "metadata": {
        "id": "udgbRSOsgTjk"
      },
      "source": [
        "Clasifiquemos un texto de ejemplo"
      ]
    },
    {
      "cell_type": "code",
      "metadata": {
        "id": "MZBVKWP7gUSn"
      },
      "source": [
        "label = {-1:'Sin sentimientos', 0:'Neutro', 1:'Positivo', 2:'Negativo'}"
      ],
      "execution_count": 93,
      "outputs": []
    },
    {
      "cell_type": "code",
      "metadata": {
        "id": "1ZB6IWSMgYS7"
      },
      "source": [
        "frase = 'Estoy triste por la situacion actual del pais'\n",
        "example = [frase]"
      ],
      "execution_count": 96,
      "outputs": []
    },
    {
      "cell_type": "markdown",
      "metadata": {
        "id": "TXSZdLqQgj4E"
      },
      "source": [
        "Convertimos el texto en un vecot de palabras y extraemos sus caracteristicas https://scikit-learn.org/stable/modules/feature_extraction.html"
      ]
    },
    {
      "cell_type": "code",
      "metadata": {
        "colab": {
          "base_uri": "https://localhost:8080/"
        },
        "id": "hiOCdXZ1grBr",
        "outputId": "6b0e3db6-b678-4f2e-f2fa-8e17f4e345ab"
      },
      "source": [
        "textConvert = vect.transform(example)\n",
        "\n",
        "print('Predicción: %s \\nProbabilidad: %.2f%%' % (label[clf.predict(textConvert)[0]], np.max(clf.predict_proba(textConvert))*100))\n",
        "print('Predicción: %s' % label[clf.predict(textConvert)[0]])\n",
        "print(np.max(clf.predict_proba(textConvert))*100)"
      ],
      "execution_count": 97,
      "outputs": [
        {
          "output_type": "stream",
          "text": [
            "Predicción: Negativo \n",
            "Probabilidad: 60.73%\n",
            "Predicción: Negativo\n",
            "60.72737610475305\n"
          ],
          "name": "stdout"
        }
      ]
    },
    {
      "cell_type": "markdown",
      "metadata": {
        "id": "Qwgw7PKugvay"
      },
      "source": [
        "#**Recorremos los tweets descargados y los clasificamos**"
      ]
    },
    {
      "cell_type": "code",
      "metadata": {
        "colab": {
          "base_uri": "https://localhost:8080/",
          "height": 827
        },
        "id": "15XtKAw7gyjU",
        "outputId": "643ae7e8-1390-497f-b879-4b664faf848c"
      },
      "source": [
        "import numpy as np\n",
        "import pandas as pd\n",
        "import pyprind\n",
        "\n",
        "pbar = pyprind.ProgBar(50000)\n",
        "\n",
        "df = pd.read_csv('/content/drive/MyDrive/AI/datasets/Corpus/Spanish/PNL/Copa_america/Copa_America_2021', encoding='utf-8')\n",
        "#creamos una columna llamada Sentimient donde guardaremos la predicción\n",
        "df['sentiment'] =''\n",
        "#creamos una columna llamada Probability donde guardaremos la acertabilidad que dio el clasificador\n",
        "df['probability']=0\n",
        "#conversión de sentimientos (numeros a palabras)= NONE->-1 | NEU -> 0 | P->1 | N->2\n",
        "label = {-1:'Sin sentimiento', 0:'Neutro', 1:'Positivo',2: 'Negativo'}\n",
        "for rowid in range(len(df.index)):\n",
        "  text=df['text'][rowid]\n",
        "  textConvert = vect.transform([text]) \n",
        "  df['sentiment'][rowid]=label[clf.predict(textConvert)[0]]\n",
        "  df['probability'][rowid]=np.max(clf.predict_proba(textConvert))*100\n",
        "  pbar.update()\n",
        "df.head(20)"
      ],
      "execution_count": 108,
      "outputs": [
        {
          "output_type": "stream",
          "text": [
            "/usr/local/lib/python3.7/dist-packages/ipykernel_launcher.py:17: SettingWithCopyWarning: \n",
            "A value is trying to be set on a copy of a slice from a DataFrame\n",
            "\n",
            "See the caveats in the documentation: https://pandas.pydata.org/pandas-docs/stable/user_guide/indexing.html#returning-a-view-versus-a-copy\n",
            "/usr/local/lib/python3.7/dist-packages/ipykernel_launcher.py:18: SettingWithCopyWarning: \n",
            "A value is trying to be set on a copy of a slice from a DataFrame\n",
            "\n",
            "See the caveats in the documentation: https://pandas.pydata.org/pandas-docs/stable/user_guide/indexing.html#returning-a-view-versus-a-copy\n",
            "0% [#                             ] 100% | ETA: 00:35:22"
          ],
          "name": "stderr"
        },
        {
          "output_type": "execute_result",
          "data": {
            "text/html": [
              "<div>\n",
              "<style scoped>\n",
              "    .dataframe tbody tr th:only-of-type {\n",
              "        vertical-align: middle;\n",
              "    }\n",
              "\n",
              "    .dataframe tbody tr th {\n",
              "        vertical-align: top;\n",
              "    }\n",
              "\n",
              "    .dataframe thead th {\n",
              "        text-align: right;\n",
              "    }\n",
              "</style>\n",
              "<table border=\"1\" class=\"dataframe\">\n",
              "  <thead>\n",
              "    <tr style=\"text-align: right;\">\n",
              "      <th></th>\n",
              "      <th>user</th>\n",
              "      <th>location</th>\n",
              "      <th>text</th>\n",
              "      <th>sentiment</th>\n",
              "      <th>probability</th>\n",
              "    </tr>\n",
              "  </thead>\n",
              "  <tbody>\n",
              "    <tr>\n",
              "      <th>0</th>\n",
              "      <td>BarryShirts</td>\n",
              "      <td>NaN</td>\n",
              "      <td>La #CopaAmerica2021 se juega en Chile?\\n\\nIG: ...</td>\n",
              "      <td>Positivo</td>\n",
              "      <td>67</td>\n",
              "    </tr>\n",
              "    <tr>\n",
              "      <th>1</th>\n",
              "      <td>renzorgamboa</td>\n",
              "      <td>NaN</td>\n",
              "      <td>Modo #CopaAmerica2021 activado https://t.co/Qc...</td>\n",
              "      <td>Positivo</td>\n",
              "      <td>67</td>\n",
              "    </tr>\n",
              "    <tr>\n",
              "      <th>2</th>\n",
              "      <td>Goyorozco</td>\n",
              "      <td>Valledupar - Colombia</td>\n",
              "      <td>Así nace la peor cepa! #PetroYaBasta #MuyParac...</td>\n",
              "      <td>Negativo</td>\n",
              "      <td>51</td>\n",
              "    </tr>\n",
              "    <tr>\n",
              "      <th>3</th>\n",
              "      <td>Trouman1977</td>\n",
              "      <td>NaN</td>\n",
              "      <td>@CONMEBOL debería mover toda la #CopaAmerica20...</td>\n",
              "      <td>Positivo</td>\n",
              "      <td>70</td>\n",
              "    </tr>\n",
              "    <tr>\n",
              "      <th>4</th>\n",
              "      <td>infogatecl</td>\n",
              "      <td>Santiago de Chile</td>\n",
              "      <td>⚽️🏆📢  #CopaAmerica2021 en medio de la #pandemi...</td>\n",
              "      <td>Positivo</td>\n",
              "      <td>47</td>\n",
              "    </tr>\n",
              "    <tr>\n",
              "      <th>5</th>\n",
              "      <td>infogatecl</td>\n",
              "      <td>Santiago de Chile</td>\n",
              "      <td>⚽️🏆El mundo civilizado se pregunta 📢 ¿Tiene se...</td>\n",
              "      <td>Positivo</td>\n",
              "      <td>66</td>\n",
              "    </tr>\n",
              "    <tr>\n",
              "      <th>6</th>\n",
              "      <td>cletero_ilustre</td>\n",
              "      <td>Ñuñoa, Chile</td>\n",
              "      <td>Justo para hacer la #CopaAmerica2021 en #Chile...</td>\n",
              "      <td>Positivo</td>\n",
              "      <td>60</td>\n",
              "    </tr>\n",
              "    <tr>\n",
              "      <th>7</th>\n",
              "      <td>jonathanset67</td>\n",
              "      <td>Viena, Austria</td>\n",
              "      <td>@LDanieri Pero quieren hacer la #CopaAmerica2021</td>\n",
              "      <td>Negativo</td>\n",
              "      <td>48</td>\n",
              "    </tr>\n",
              "    <tr>\n",
              "      <th>8</th>\n",
              "      <td>Chiky_Caballero</td>\n",
              "      <td>Buenos Aires</td>\n",
              "      <td>@BrasileiraoPlay @gabigol @Flamengo Felicitaci...</td>\n",
              "      <td>Positivo</td>\n",
              "      <td>67</td>\n",
              "    </tr>\n",
              "    <tr>\n",
              "      <th>9</th>\n",
              "      <td>alexanderemp</td>\n",
              "      <td>Stgo. Chile</td>\n",
              "      <td>@CHVNoticias Esta la media cga con el #COVID19...</td>\n",
              "      <td>Positivo</td>\n",
              "      <td>65</td>\n",
              "    </tr>\n",
              "    <tr>\n",
              "      <th>10</th>\n",
              "      <td>MiauCafeEc</td>\n",
              "      <td>Guayas, Ecuador</td>\n",
              "      <td>Nos volveremos tu adicción 💥\\nInstagram https:...</td>\n",
              "      <td>Positivo</td>\n",
              "      <td>68</td>\n",
              "    </tr>\n",
              "    <tr>\n",
              "      <th>11</th>\n",
              "      <td>luismigomezh</td>\n",
              "      <td>Bogotá, Colombia</td>\n",
              "      <td>No soy seguidor de pinturita.  Pero tiene toda...</td>\n",
              "      <td>Positivo</td>\n",
              "      <td>67</td>\n",
              "    </tr>\n",
              "    <tr>\n",
              "      <th>12</th>\n",
              "      <td>penelopemdq</td>\n",
              "      <td>NaN</td>\n",
              "      <td>Supongo que ya suspendieron la #CopaAmerica202...</td>\n",
              "      <td>Positivo</td>\n",
              "      <td>58</td>\n",
              "    </tr>\n",
              "    <tr>\n",
              "      <th>13</th>\n",
              "      <td>GabrielMcQueer</td>\n",
              "      <td>NaN</td>\n",
              "      <td>Medellín, Colombia\\n¿Aguilas negras o policías...</td>\n",
              "      <td>Positivo</td>\n",
              "      <td>69</td>\n",
              "    </tr>\n",
              "    <tr>\n",
              "      <th>14</th>\n",
              "      <td>jennymusot</td>\n",
              "      <td>NaN</td>\n",
              "      <td>No entiendo nah, no que volvimos a subir los c...</td>\n",
              "      <td>Positivo</td>\n",
              "      <td>50</td>\n",
              "    </tr>\n",
              "    <tr>\n",
              "      <th>15</th>\n",
              "      <td>DamyRodriz</td>\n",
              "      <td>Medellín, Colombia</td>\n",
              "      <td>Me acuerdo cuando decíamos de cuando sería el ...</td>\n",
              "      <td>Positivo</td>\n",
              "      <td>63</td>\n",
              "    </tr>\n",
              "    <tr>\n",
              "      <th>16</th>\n",
              "      <td>Evc_jj</td>\n",
              "      <td>Miami Springs, FL</td>\n",
              "      <td>Nuestros desaparecidos, van saliendo a la luz,...</td>\n",
              "      <td>Positivo</td>\n",
              "      <td>53</td>\n",
              "    </tr>\n",
              "    <tr>\n",
              "      <th>17</th>\n",
              "      <td>unicorniooh_98</td>\n",
              "      <td>Narnia</td>\n",
              "      <td>Dime @tele_rebelde si no vas a transmitir la #...</td>\n",
              "      <td>Positivo</td>\n",
              "      <td>67</td>\n",
              "    </tr>\n",
              "    <tr>\n",
              "      <th>18</th>\n",
              "      <td>YennyVelasco9</td>\n",
              "      <td>NaN</td>\n",
              "      <td>#CopaAmerica2021 #ParoNacional22M #Colombia ir...</td>\n",
              "      <td>Positivo</td>\n",
              "      <td>69</td>\n",
              "    </tr>\n",
              "    <tr>\n",
              "      <th>19</th>\n",
              "      <td>el_lirio_azul</td>\n",
              "      <td>Argentina</td>\n",
              "      <td>#CopaAmerica2021 implica que llegarán mil peri...</td>\n",
              "      <td>Positivo</td>\n",
              "      <td>53</td>\n",
              "    </tr>\n",
              "  </tbody>\n",
              "</table>\n",
              "</div>"
            ],
            "text/plain": [
              "               user               location  ... sentiment probability\n",
              "0       BarryShirts                    NaN  ...  Positivo          67\n",
              "1      renzorgamboa                    NaN  ...  Positivo          67\n",
              "2         Goyorozco  Valledupar - Colombia  ...  Negativo          51\n",
              "3       Trouman1977                    NaN  ...  Positivo          70\n",
              "4        infogatecl      Santiago de Chile  ...  Positivo          47\n",
              "5        infogatecl      Santiago de Chile  ...  Positivo          66\n",
              "6   cletero_ilustre           Ñuñoa, Chile  ...  Positivo          60\n",
              "7     jonathanset67         Viena, Austria  ...  Negativo          48\n",
              "8   Chiky_Caballero           Buenos Aires  ...  Positivo          67\n",
              "9      alexanderemp            Stgo. Chile  ...  Positivo          65\n",
              "10       MiauCafeEc        Guayas, Ecuador  ...  Positivo          68\n",
              "11     luismigomezh       Bogotá, Colombia  ...  Positivo          67\n",
              "12      penelopemdq                    NaN  ...  Positivo          58\n",
              "13   GabrielMcQueer                    NaN  ...  Positivo          69\n",
              "14       jennymusot                    NaN  ...  Positivo          50\n",
              "15       DamyRodriz     Medellín, Colombia  ...  Positivo          63\n",
              "16           Evc_jj      Miami Springs, FL  ...  Positivo          53\n",
              "17   unicorniooh_98                 Narnia  ...  Positivo          67\n",
              "18    YennyVelasco9                    NaN  ...  Positivo          69\n",
              "19    el_lirio_azul             Argentina   ...  Positivo          53\n",
              "\n",
              "[20 rows x 5 columns]"
            ]
          },
          "metadata": {
            "tags": []
          },
          "execution_count": 108
        }
      ]
    },
    {
      "cell_type": "code",
      "metadata": {
        "colab": {
          "base_uri": "https://localhost:8080/"
        },
        "id": "XdNAbhD_kHKh",
        "outputId": "9dfc64f3-5583-448a-815e-1881819d293d"
      },
      "source": [
        "df.to_csv('/content/drive/MyDrive/AI/datasets/Corpus/Spanish/PNL/Copa_america/Copa_America_2021', index=False, encoding='utf-8')\n",
        "print(df.head(5))"
      ],
      "execution_count": 114,
      "outputs": [
        {
          "output_type": "stream",
          "text": [
            "           user               location  ... sentiment probability\n",
            "0   BarryShirts                    NaN  ...  Positivo          67\n",
            "1  renzorgamboa                    NaN  ...  Positivo          67\n",
            "2     Goyorozco  Valledupar - Colombia  ...  Negativo          51\n",
            "3   Trouman1977                    NaN  ...  Positivo          70\n",
            "4    infogatecl      Santiago de Chile  ...  Positivo          47\n",
            "\n",
            "[5 rows x 5 columns]\n"
          ],
          "name": "stdout"
        }
      ]
    },
    {
      "cell_type": "markdown",
      "metadata": {
        "id": "Pwjj-Ma3s69p"
      },
      "source": [
        "Segunda forma de ejecutar el análisis (métodos)"
      ]
    },
    {
      "cell_type": "code",
      "metadata": {
        "id": "z5Fqt5ZQvIV3"
      },
      "source": [
        "#segunda forma de ejecutar el analisis (metodos)\n",
        "def f_prediction(row):\n",
        "  text=row['text']\n",
        "  textConvert = vect.transform([text]) \n",
        "  return label[clf.predict(textConvert)[0]]\n",
        "\n",
        "def f_probability(row):\n",
        "  text=row['text']\n",
        "  textConvert = vect.transform([text]) \n",
        "  return np.max(clf.predict_proba(textConvert))*100\n",
        "\n",
        "df[\"sentiment\"] = df.apply(f_prediction, axis=1) # recorriendo columnas\n",
        "df[\"probability\"] = df.apply(f_probability, axis=1) # recorriendo columnas"
      ],
      "execution_count": 115,
      "outputs": []
    },
    {
      "cell_type": "code",
      "metadata": {
        "colab": {
          "base_uri": "https://localhost:8080/",
          "height": 385
        },
        "id": "ykod6xjFv1DQ",
        "outputId": "be8e4eed-81f4-4e96-fbcc-5e71194e61e7"
      },
      "source": [
        "import matplotlib.pyplot as plt\n",
        "df.groupby('sentiment')['location'].nunique().plot(kind='bar')\n",
        "print(df.groupby(['sentiment']).size())\n",
        "plt.show()\n"
      ],
      "execution_count": 117,
      "outputs": [
        {
          "output_type": "stream",
          "text": [
            "sentiment\n",
            "Negativo     193\n",
            "Positivo    2988\n",
            "dtype: int64\n"
          ],
          "name": "stdout"
        },
        {
          "output_type": "display_data",
          "data": {
            "image/png": "[encoded data removed]",
            "text/plain": [
              "<Figure size 432x288 with 1 Axes>"
            ]
          },
          "metadata": {
            "tags": [],
            "needs_background": "light"
          }
        }
      ]
    }
  ]
}