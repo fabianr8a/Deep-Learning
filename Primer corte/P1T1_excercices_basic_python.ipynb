{
  "nbformat": 4,
  "nbformat_minor": 0,
  "metadata": {
    "colab": {
      "name": "P1T1_excercices_basic_python.ipynb",
      "provenance": [],
      "collapsed_sections": []
    },
    "kernelspec": {
      "name": "python3",
      "display_name": "Python 3"
    }
  },
  "cells": [
    {
      "cell_type": "code",
      "metadata": {
        "id": "0aaaztu2E_Vq"
      },
      "source": [
        ""
      ],
      "execution_count": null,
      "outputs": []
    },
    {
      "cell_type": "markdown",
      "metadata": {
        "id": "D6_wDW07Fj1T"
      },
      "source": [
        "#**Ejercicios basicos en python**\r\n",
        "\r\n",
        "##**1: operaciones básicas**\r\n",
        "Realice un programa en Python que determine el mayor de tres números:"
      ]
    },
    {
      "cell_type": "code",
      "metadata": {
        "colab": {
          "base_uri": "https://localhost:8080/"
        },
        "id": "qjm09GC9F2wm",
        "outputId": "aead62f8-6a84-4415-bacc-44f85e80b4d3"
      },
      "source": [
        "var1= int(input(\"Ingrese el 1° número:\"))\r\n",
        "var2= int(input(\"Ingrese el 2° número:\"))\r\n",
        "var3= int(input(\"Ingrese el 3° número:\"))\r\n",
        "if (var1>var2 and var1>var3):\r\n",
        "  print(\"El número mayor es var1 :\"+str(var1))\r\n",
        "elif (var2>var1 and var2 >var3):\r\n",
        "  print(\"El número mayor es var2 :\"+str(var2))\r\n",
        "else:\r\n",
        "  print(\"El número mayor es var3 :\"+str(var3))"
      ],
      "execution_count": 1,
      "outputs": [
        {
          "output_type": "stream",
          "text": [
            "Ingrese el 1° número:324\n",
            "Ingrese el 2° número:234\n",
            "Ingrese el 3° número:534\n",
            "El número mayor es var3 :534\n"
          ],
          "name": "stdout"
        }
      ]
    },
    {
      "cell_type": "markdown",
      "metadata": {
        "id": "eqCsOGJIGXz-"
      },
      "source": [
        "forma minimalista de python"
      ]
    },
    {
      "cell_type": "code",
      "metadata": {
        "colab": {
          "base_uri": "https://localhost:8080/"
        },
        "id": "VckBVyQ6GY7L",
        "outputId": "15af8509-0ca2-41e6-90c0-4fdf68f3675c"
      },
      "source": [
        "var1, var2, var3 = input (\"ingrese tres numéros separados por coma:\").split(\",\")\r\n",
        "print(\"El mayor es:\"+str(max(int(var1),int(var2),int(var3))))"
      ],
      "execution_count": 2,
      "outputs": [
        {
          "output_type": "stream",
          "text": [
            "ingrese tres numéros separados por coma:54,65,23\n",
            "El mayor es:65\n"
          ],
          "name": "stdout"
        }
      ]
    },
    {
      "cell_type": "markdown",
      "metadata": {
        "id": "-xllbYoFGi9P"
      },
      "source": [
        "Diseñar un programa en PYTHON donde se ingresen N cantidad de números y me imprima la suma"
      ]
    },
    {
      "cell_type": "code",
      "metadata": {
        "colab": {
          "base_uri": "https://localhost:8080/"
        },
        "id": "4OltcUk9GsB8",
        "outputId": "e0da92ce-dff4-447b-ae49-f8bf4790f935"
      },
      "source": [
        "#Método clásico\r\n",
        "tot=int(input(\"Ingrese la cantidad N de números: \"))\r\n",
        "suma=0\r\n",
        "for i in range(0, tot):\r\n",
        "  suma+=int(input(\"ingrese el valor del num \"+str(i)+\": \"))\r\n",
        "print(\"El total es: \"+str(suma))"
      ],
      "execution_count": 3,
      "outputs": [
        {
          "output_type": "stream",
          "text": [
            "Ingrese la cantidad N de números: 5\n",
            "ingrese el valor del num 0: 65\n",
            "ingrese el valor del num 1: 4\n",
            "ingrese el valor del num 2: 7\n",
            "ingrese el valor del num 3: 3\n",
            "ingrese el valor del num 4: 7\n",
            "El total es: 86\n"
          ],
          "name": "stdout"
        }
      ]
    },
    {
      "cell_type": "code",
      "metadata": {
        "colab": {
          "base_uri": "https://localhost:8080/"
        },
        "id": "A0_cFK0tGzyc",
        "outputId": "fb7138e3-28f3-4ffe-c7ad-cc6dc9ca284d"
      },
      "source": [
        "#Metodo minimalista de python\r\n",
        "suma=0\r\n",
        "for i in range(0, int(input(\"Ingrese la cantidad N de números: \"))):\r\n",
        "  suma+=int(input(\"ingrese el valor del num \"+str(i)+\": \"))\r\n",
        "print(\"El total es: \"+str(suma))"
      ],
      "execution_count": 4,
      "outputs": [
        {
          "output_type": "stream",
          "text": [
            "Ingrese la cantidad N de números: 4\n",
            "ingrese el valor del num 0: 324\n",
            "ingrese el valor del num 1: 436\n",
            "ingrese el valor del num 2: 5745\n",
            "ingrese el valor del num 3: 54\n",
            "El total es: 6559\n"
          ],
          "name": "stdout"
        }
      ]
    },
    {
      "cell_type": "code",
      "metadata": {
        "colab": {
          "base_uri": "https://localhost:8080/"
        },
        "id": "ws_SWf_vG-z4",
        "outputId": "858b9355-5d07-41a5-c96f-02b1416bf378"
      },
      "source": [
        "#Método clásico\r\n",
        "inicio=int(input(\"Número minimo: \"))\r\n",
        "fin=int(input(\"Número final: \"))\r\n",
        "for i in range(inicio,fin):\r\n",
        "  if ((i%2)==0):\r\n",
        "    print(\"El número par :\" + str(i))"
      ],
      "execution_count": 6,
      "outputs": [
        {
          "output_type": "stream",
          "text": [
            "Número minimo: 3\n",
            "Número final: 5\n",
            "El número par :4\n"
          ],
          "name": "stdout"
        }
      ]
    },
    {
      "cell_type": "code",
      "metadata": {
        "colab": {
          "base_uri": "https://localhost:8080/"
        },
        "id": "HJkjkgGAHLQs",
        "outputId": "97b3b827-fa4c-422f-eb12-17c1f7e2fd47"
      },
      "source": [
        "#Método Python minimalista\r\n",
        "for i in range(int(input(\"Número minimo: \")),int(input(\"Número final: \"))):\r\n",
        "    if( (i%2)==0 ): print(\"El número par :\" + str(i))"
      ],
      "execution_count": 7,
      "outputs": [
        {
          "output_type": "stream",
          "text": [
            "Número minimo: 3\n",
            "Número final: 10\n",
            "El número par :4\n",
            "El número par :6\n",
            "El número par :8\n"
          ],
          "name": "stdout"
        }
      ]
    },
    {
      "cell_type": "markdown",
      "metadata": {
        "id": "2P422JhKHb1o"
      },
      "source": [
        "##**2: manejo de listas**\r\n",
        "Diseñe un programa que me visualice dos listado concatenados:\r\n",
        "\r\n",
        "Uno donde los números sean de 1 al 12. Otro listado donde los números sean del 12 al 1"
      ]
    },
    {
      "cell_type": "code",
      "metadata": {
        "colab": {
          "base_uri": "https://localhost:8080/"
        },
        "id": "aKZqjNQjHibh",
        "outputId": "9c929b1c-5acc-4bad-dff7-7cf31909ebca"
      },
      "source": [
        "#Método clásico\r\n",
        "rango1=list(range(1,13))\r\n",
        "rango2=list(range(12,0,-1))\r\n",
        "print(rango1+rango2)"
      ],
      "execution_count": 8,
      "outputs": [
        {
          "output_type": "stream",
          "text": [
            "[1, 2, 3, 4, 5, 6, 7, 8, 9, 10, 11, 12, 12, 11, 10, 9, 8, 7, 6, 5, 4, 3, 2, 1]\n"
          ],
          "name": "stdout"
        }
      ]
    },
    {
      "cell_type": "code",
      "metadata": {
        "colab": {
          "base_uri": "https://localhost:8080/"
        },
        "id": "r_PuU43MHmeg",
        "outputId": "57d6816d-857e-41d9-b7aa-49753d9776e8"
      },
      "source": [
        "#Método Python minimalista\r\n",
        "lista=list(range(1,13))\r\n",
        "print(lista+lista[::-1])"
      ],
      "execution_count": 9,
      "outputs": [
        {
          "output_type": "stream",
          "text": [
            "[1, 2, 3, 4, 5, 6, 7, 8, 9, 10, 11, 12, 12, 11, 10, 9, 8, 7, 6, 5, 4, 3, 2, 1]\n"
          ],
          "name": "stdout"
        }
      ]
    },
    {
      "cell_type": "markdown",
      "metadata": {
        "id": "OsmKMmPEHp1z"
      },
      "source": [
        "##**3: librerías básicas**\r\n",
        "librerías de números randomicos"
      ]
    },
    {
      "cell_type": "code",
      "metadata": {
        "colab": {
          "base_uri": "https://localhost:8080/"
        },
        "id": "3MaZzVniHtUq",
        "outputId": "17d6ac7a-c112-4c11-895f-f00f4f69f282"
      },
      "source": [
        "import random\r\n",
        "Var1= random.randrange(101)\r\n",
        "print(Var1)"
      ],
      "execution_count": 10,
      "outputs": [
        {
          "output_type": "stream",
          "text": [
            "50\n"
          ],
          "name": "stdout"
        }
      ]
    },
    {
      "cell_type": "markdown",
      "metadata": {
        "id": "fv3DzUcTHysq"
      },
      "source": [
        "Diseñe un programa que me visualice un listado de 10 números aleatorios entre 1 y 100"
      ]
    },
    {
      "cell_type": "code",
      "metadata": {
        "colab": {
          "base_uri": "https://localhost:8080/"
        },
        "id": "4M8Kud7ZHzo1",
        "outputId": "e1df44bb-8289-49e3-a39f-b1912f8623f3"
      },
      "source": [
        "#Método clásico\r\n",
        "import random\r\n",
        "lista= [ random.randrange(10) for i in range(10)]\r\n",
        "print(lista)"
      ],
      "execution_count": 11,
      "outputs": [
        {
          "output_type": "stream",
          "text": [
            "[5, 0, 8, 1, 3, 9, 3, 0, 1, 4]\n"
          ],
          "name": "stdout"
        }
      ]
    },
    {
      "cell_type": "code",
      "metadata": {
        "colab": {
          "base_uri": "https://localhost:8080/"
        },
        "id": "KrgPr4HaH-Pu",
        "outputId": "0996d491-6058-448e-db91-30d2a777edb2"
      },
      "source": [
        "#Método Python minimalista\r\n",
        "for i in range(10): print(random.randrange(100))"
      ],
      "execution_count": 12,
      "outputs": [
        {
          "output_type": "stream",
          "text": [
            "86\n",
            "44\n",
            "49\n",
            "26\n",
            "75\n",
            "58\n",
            "1\n",
            "80\n",
            "92\n",
            "97\n"
          ],
          "name": "stdout"
        }
      ]
    },
    {
      "cell_type": "markdown",
      "metadata": {
        "id": "SKauQXc6ICCx"
      },
      "source": [
        "##**4: combinando todo lo anterior**\r\n",
        "Diseñe un programa que me genere un listado con las edades de N habitantes de una ciudad, donde la cantidad de habitantes sea un valor randomico entre 1000 y 50000 y la edad de cada persona también debe ser un randomico entre 1 y 100 años. Al final del el programa me debe indicar cuanto es la población total y el porcentaje de cuantos son mayores de edad (>=18) y cuantos no"
      ]
    },
    {
      "cell_type": "code",
      "metadata": {
        "colab": {
          "base_uri": "https://localhost:8080/"
        },
        "id": "GfGfRbhwIGYF",
        "outputId": "636ecbe5-c225-48e6-a6f1-13058dcee58d"
      },
      "source": [
        "from random import randint\r\n",
        "censo = [randint(1,100) for x in range(randint(10000,70000))]\r\n",
        "Menor18 = [edad for edad in censo if edad <= 17]\r\n",
        "print(\"Ciudad: Habitantes: \"+str(len(censo))+ \", votantes (mayores de 18)->\"+str(len(Menor18))+ \" es el \"+ str(len(Menor18)*100/len(censo))+\"%\")"
      ],
      "execution_count": 13,
      "outputs": [
        {
          "output_type": "stream",
          "text": [
            "Ciudad: Habitantes: 52948, votantes (mayores de 18)->8971 es el 16.943038452821636%\n"
          ],
          "name": "stdout"
        }
      ]
    },
    {
      "cell_type": "markdown",
      "metadata": {
        "id": "P-WLnM-jII95"
      },
      "source": [
        "##**5: usando librería numpy**\r\n",
        "Diseñe un programa (máximo 5 líneas) donde 6 candidat@s se disputan la alcaldía (ayuntamiento municipal), los candidat@s de los siguientes partidos:\r\n",
        "\r\n",
        "1 – socio-democratico 2 – Ultra-derechista 3 – primero los ricos 4 – Centro demoniaco 5 – Cambio invertido 6 – Alianza queremos más pobres\r\n",
        "\r\n",
        "Los votos de cada candidato son generados de forma aleatoria entre 1 y 25000 votos máximo, el software debe determinar quién fue el ganador. (utilicé la librería numpy)"
      ]
    },
    {
      "cell_type": "code",
      "metadata": {
        "colab": {
          "base_uri": "https://localhost:8080/"
        },
        "id": "E9CC3UXSINNP",
        "outputId": "e81dcfa0-d1ca-4d78-9e55-db8f6ba644d2"
      },
      "source": [
        "import numpy as np\r\n",
        "from random import randint\r\n",
        "matriz = np.array([[i+1,randint(1,20000)] for i in range(6)])\r\n",
        "ganador = np.where(matriz[:,1] == matriz[:,1].max())\r\n",
        "print(\"las votaciones:\\n\"+str(matriz)+\"\\n El ganador es: \"+str(matriz[ganador[0]]))"
      ],
      "execution_count": 14,
      "outputs": [
        {
          "output_type": "stream",
          "text": [
            "las votaciones:\n",
            "[[    1 11898]\n",
            " [    2 17260]\n",
            " [    3  5115]\n",
            " [    4  2142]\n",
            " [    5  6531]\n",
            " [    6  4540]]\n",
            " El ganador es: [[    2 17260]]\n"
          ],
          "name": "stdout"
        }
      ]
    },
    {
      "cell_type": "markdown",
      "metadata": {
        "id": "bvsVqXmWISDj"
      },
      "source": [
        "Diseñe un programa donde 6 candidat@s se presentan a la disputa para la Gobernación del departamento (estado), los candid@tos de los siguientes partidos:\r\n",
        "\r\n",
        "1 – socio-democratico 2 – Ultra-derechista 3 – primero los ricos 4 – Centro demoniaco 5 – Cambio invertido 6 – Alianza queremos más pobres\r\n",
        "\r\n",
        "Los votos de cada candidat@s son generados de forma aleatoria entre 1 y 4500 votos máximo para cada uno de los 123 municipios del departamento, el software debe determinar quién fue ganador@.\r\n",
        "\r\n",
        "Nota: Creamos una matriz llamada votos, compuesta por 123 filas (municipios) y 6 columnas (candidat@s) y cuyo valor de cada celda sea un randomico entre 1 y 3000"
      ]
    },
    {
      "cell_type": "code",
      "metadata": {
        "colab": {
          "base_uri": "https://localhost:8080/"
        },
        "id": "bYHGGwDIIT8W",
        "outputId": "55caecd6-796d-4199-e6fd-c00218d93f28"
      },
      "source": [
        "import numpy as np; from random import randint\r\n",
        "votos_20xx = np.random.randint(3000,size=(123,6))\r\n",
        "tot_votos = np.array([[candidato+1,votos_20xx[:,candidato].sum()] for candidato in range(len(votos_20xx[0]))])\r\n",
        "ganador = np.where(tot_votos == tot_votos[:,1].max())\r\n",
        "print(\"El candidato ganador fue el: \"+str(tot_votos[ganador[0]])+\"\\n El total de votos por candidato es \\n\"+str(tot_votos))"
      ],
      "execution_count": 15,
      "outputs": [
        {
          "output_type": "stream",
          "text": [
            "El candidato ganador fue el: [[     2 197952]]\n",
            " El total de votos por candidato es \n",
            "[[     1 181560]\n",
            " [     2 197952]\n",
            " [     3 175765]\n",
            " [     4 190496]\n",
            " [     5 182630]\n",
            " [     6 183463]]\n"
          ],
          "name": "stdout"
        }
      ]
    },
    {
      "cell_type": "markdown",
      "metadata": {
        "id": "3xKo74FeIX6J"
      },
      "source": [
        "Crear un programa en PYTHON para simular una carrera de formula uno, en donde: Existen 5 vehículos\r\n",
        "\r\n",
        "Renault Ferrari Mercedez, Ford Red bull\r\n",
        "\r\n",
        "La carrera esta diseñada para 4 vueltas donde el tiempo mínimo es 8.2 segundos y el máximo es 10 segundos.\r\n",
        "\r\n",
        "Diseñe la matriz de 5 x 4 donde determine cual es el vehículo ganador donde los tiempos de cada vehículo por vuelta se un randomico."
      ]
    },
    {
      "cell_type": "code",
      "metadata": {
        "colab": {
          "base_uri": "https://localhost:8080/"
        },
        "id": "Wq2KJb3uIY8c",
        "outputId": "4e871fc0-84cc-4824-de5e-700e0aafec95"
      },
      "source": [
        "import numpy as np\r\n",
        "matriz = np.random.uniform(8.2,10,size=(4,5))\r\n",
        "tot_vueltas = np.array([[corredor+1,matriz[:,corredor].sum()] for corredor in range(len(matriz[0]))])\r\n",
        "ganador=np.where(matriz == matriz[:,1].min())\r\n",
        "print (\"Resultados de la carrera:\\n\"+str(matriz)+\"\\nEl Piloto ganador fue el: \"+str(tot_vueltas[ganador[0]]))"
      ],
      "execution_count": 16,
      "outputs": [
        {
          "output_type": "stream",
          "text": [
            "Resultados de la carrera:\n",
            "[[8.63738289 8.53195634 8.75691455 9.39019617 9.55748355]\n",
            " [9.9783469  8.36145411 9.09151098 9.57400196 8.95881783]\n",
            " [9.55598925 8.25945489 9.69148097 9.36684435 8.39110021]\n",
            " [8.66025768 9.50887145 9.95839424 8.26427845 9.38355748]]\n",
            "El Piloto ganador fue el: [[ 3.         37.49830074]]\n"
          ],
          "name": "stdout"
        }
      ]
    },
    {
      "cell_type": "markdown",
      "metadata": {
        "id": "5Wxk8m5eIdAs"
      },
      "source": [
        "##**6: Graficando valores (matplotlib)**"
      ]
    },
    {
      "cell_type": "code",
      "metadata": {
        "colab": {
          "base_uri": "https://localhost:8080/",
          "height": 264
        },
        "id": "76SGUsC2IhPZ",
        "outputId": "68fb9875-3a51-48d6-9eb3-143238eb8416"
      },
      "source": [
        "import matplotlib.pyplot as plt\r\n",
        "plt.plot([10, 20, 40, 20])\r\n",
        "plt.ylabel(\"graficos basico\")\r\n",
        "plt.show()"
      ],
      "execution_count": 17,
      "outputs": [
        {
          "output_type": "display_data",
          "data": {
            "image/png": "[encoded data removed]",
            "text/plain": [
              "<Figure size 432x288 with 1 Axes>"
            ]
          },
          "metadata": {
            "tags": [],
            "needs_background": "light"
          }
        }
      ]
    },
    {
      "cell_type": "code",
      "metadata": {
        "colab": {
          "base_uri": "https://localhost:8080/",
          "height": 264
        },
        "id": "GeKBk_DGIkZr",
        "outputId": "f82aba3a-1e87-4532-ea41-c6664a676840"
      },
      "source": [
        "import matplotlib.pyplot as plt\r\n",
        "import random\r\n",
        "lista= [ random.randrange(10) for i in range(10)]\r\n",
        "plt.plot(lista,'ro')\r\n",
        "plt.ylabel(\"números randomicos de 0 a 10\")\r\n",
        "plt.show()"
      ],
      "execution_count": 18,
      "outputs": [
        {
          "output_type": "display_data",
          "data": {
            "image/png": "[encoded data removed]",
            "text/plain": [
              "<Figure size 432x288 with 1 Axes>"
            ]
          },
          "metadata": {
            "tags": [],
            "needs_background": "light"
          }
        }
      ]
    },
    {
      "cell_type": "markdown",
      "metadata": {
        "id": "LDWFOoOLInWD"
      },
      "source": [
        "Graficando los candidat@s a la alcaldía"
      ]
    },
    {
      "cell_type": "code",
      "metadata": {
        "colab": {
          "base_uri": "https://localhost:8080/",
          "height": 436
        },
        "id": "FNSHSJWjIpwA",
        "outputId": "6bc9059d-79f3-49c6-8ff2-239113a62193"
      },
      "source": [
        "import numpy as np ; from random import randint; import matplotlib.pyplot as plt\r\n",
        "matriz = np.array([[i+1, randint(1,20000)] for i in range(6)]) \r\n",
        "ganador= np.where(matriz == matriz[:,1].max())\r\n",
        "#Diagrama de Barras\r\n",
        "fig = plt.figure('Gráfica de barras') #Generacion de ventana\r\n",
        "ax = fig.add_subplot(1,1,1) #Un eje coordenado \r\n",
        "nombres = ['1 – socio-democratico','2 – Ultra-derechista','3 – primero los ricos','4 – Centro demoniaco','5 – Cambio invertido','6 – Alianza queremos más pobres']#Arreglo con los partidos\r\n",
        "ax.bar(range(len(matriz)),matriz[:,1])#Funcion var para diagramar, con parametros de votos y puntos a ubicar\r\n",
        "ax.set_xticks(range(len(matriz[:,1]))) #Numero de puntos a ubicar\r\n",
        "ax.set_xticklabels(nombres,rotation='vertical') #Agregar etiquetas a cada punto ubicado en el eje x\r\n",
        "plt.ylabel(\"Total votos\");plt.xlabel(\"Candidatos\")\r\n",
        "plt.show()"
      ],
      "execution_count": 19,
      "outputs": [
        {
          "output_type": "display_data",
          "data": {
            "image/png": "[encoded data removed]",
            "text/plain": [
              "<Figure size 432x288 with 1 Axes>"
            ]
          },
          "metadata": {
            "tags": [],
            "needs_background": "light"
          }
        }
      ]
    },
    {
      "cell_type": "markdown",
      "metadata": {
        "id": "kHti_zhHIsVo"
      },
      "source": [
        "P1Tx (carrera de formular 1) – dispersión (colores por cada vehículo)"
      ]
    },
    {
      "cell_type": "code",
      "metadata": {
        "colab": {
          "base_uri": "https://localhost:8080/",
          "height": 403
        },
        "id": "ZvbpkHm_Iukf",
        "outputId": "76a58ffa-d467-47c1-ba38-11221e86cc58"
      },
      "source": [
        "import numpy as np\r\n",
        "matriz = np.random.uniform(8.2,10,size=(4,5))\r\n",
        "tot_vueltas = np.array([[corredor+1,matriz[:,corredor].sum()] for corredor in range(len(matriz[0]))])\r\n",
        "ganador = np.where(matriz == matriz[:,1].min())\r\n",
        "print(\" El tiempo total por cada corredor fue: \" + \"\\n\" + str(tot_vueltas) + \"\\n\" + \" El corrdor ganador fue el numero: \" + str(tot_vueltas[ganador[0]]))\r\n",
        "#Diagrama de dispersion\r\n",
        "x = tot_vueltas[:,1]\r\n",
        "y = tot_vueltas[:,0]\r\n",
        "fig = plt.figure()\r\n",
        "fig.add_subplot(111)\r\n",
        "plt.xlabel('Corredores')\r\n",
        "plt.ylabel('Total tiempo')\r\n",
        "plt.scatter(y, x, c=x)\r\n",
        "plt.show()"
      ],
      "execution_count": 20,
      "outputs": [
        {
          "output_type": "stream",
          "text": [
            " El tiempo total por cada corredor fue: \n",
            "[[ 1.         36.59956001]\n",
            " [ 2.         36.65772997]\n",
            " [ 3.         36.24008343]\n",
            " [ 4.         36.14916225]\n",
            " [ 5.         35.23870656]]\n",
            " El corrdor ganador fue el numero: [[ 1.         36.59956001]]\n"
          ],
          "name": "stdout"
        },
        {
          "output_type": "display_data",
          "data": {
            "image/png": "[encoded data removed]",
            "text/plain": [
              "<Figure size 432x288 with 1 Axes>"
            ]
          },
          "metadata": {
            "tags": [],
            "needs_background": "light"
          }
        }
      ]
    }
  ]
}